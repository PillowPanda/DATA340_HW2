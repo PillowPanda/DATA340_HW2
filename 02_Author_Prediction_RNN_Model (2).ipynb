{
 "cells": [
  {
   "cell_type": "markdown",
   "metadata": {},
   "source": [
    "# Author prediction using RNNs\n",
    "\n",
    "In this notebook, you will prepare a dataset to predict authorship of the Federalist Papers using Recurrent Neural Networks (RNNs).\n",
    "\n",
    "## Federalist Papers\n",
    "\n",
    "The Federalist Papers are a collection of 85 articles and essays written by Alexander Hamilton, James Madison, and John Jay under the pseudonym \"Publius\". They were published in 1787 and 1788 to promote the ratification of the United States Constitution. The authors of the Federalist Papers wanted to remain anonymous, so they used the pseudonym \"Publius\". The articles were published in two newspapers, the New York Packet and the Independent Journal. The Federalist Papers are considered important works of American political thought and are still widely read today.\n",
    "\n",
    "## Additional information\n",
    "\n",
    "- [Federalist Papers](https://en.wikipedia.org/wiki/The_Federalist_Papers)\n",
    "- [Federalist Papers dataset](https://www.kaggle.com/datasets/tobyanderson/federalist-papers)\n",
    "- [LOC Research Guide](https://guides.loc.gov/federalist-papers/full-text)\n",
    "\n",
    "## Objectives (a)\n",
    "\n",
    "- Task 1: Design your dataset to predict the author of a text using RNNs.\n",
    "- Task 2: Explain the methodology of your dataset creation.\n",
    "- Task 3: Establish a baseline model using Machine Learning algorithms (SVM, Random Forest, etc.).\n",
    "  \n",
    "## Objectives (b)\n",
    "\n",
    "- Task 4: Train a RNN model to predict the author of a text.\n",
    "- Task 5: Evaluate the performance of your model.\n",
    "- Task 6: Explain your model architecture, hyperparameters, and the results of your model."
   ]
  },
  {
   "cell_type": "markdown",
   "metadata": {},
   "source": [
    "## Task 1: Dataset Creation"
   ]
  },
  {
   "cell_type": "markdown",
   "metadata": {},
   "source": [
    "### Dataset description\n",
    "\n",
    "Use the below code to scrape the Library of Congress research guide for the Federalist Papers. You need to pip install the following for the below code to work:\n",
    "\n",
    "- `pip install beautifulsoup4`\n",
    "- `pip install requests`\n",
    "- `pip install pandas`"
   ]
  },
  {
   "cell_type": "code",
   "execution_count": 2,
   "metadata": {},
   "outputs": [],
   "source": [
    "import pandas as pd\n",
    "from io import StringIO\n",
    "from bs4 import BeautifulSoup as bs\n",
    "import requests\n",
    "\n",
    "url = 'https://guides.loc.gov/federalist-papers/full-text'\n",
    "\n",
    "html = requests.get(url).text\n",
    "soup = bs(html, 'html.parser')\n",
    "\n",
    "# convert the html table to a pandas dataframe\n",
    "table = soup.find('table')\n",
    "\n",
    "# List of Federalist Papers\n",
    "meta_df = pd.read_html(StringIO(str(table)), parse_dates=True)[0]"
   ]
  },
  {
   "cell_type": "markdown",
   "metadata": {},
   "source": [
    "### Dataset datatypes"
   ]
  },
  {
   "cell_type": "code",
   "execution_count": 3,
   "metadata": {},
   "outputs": [
    {
     "name": "stdout",
     "output_type": "stream",
     "text": [
      "<class 'pandas.core.frame.DataFrame'>\n",
      "RangeIndex: 85 entries, 0 to 84\n",
      "Data columns (total 5 columns):\n",
      " #   Column       Non-Null Count  Dtype  \n",
      "---  ------       --------------  -----  \n",
      " 0   No.          85 non-null     float64\n",
      " 1   Title        85 non-null     object \n",
      " 2   Author       85 non-null     object \n",
      " 3   Publication  85 non-null     object \n",
      " 4   Date         85 non-null     object \n",
      "dtypes: float64(1), object(4)\n",
      "memory usage: 3.4+ KB\n"
     ]
    }
   ],
   "source": [
    "meta_df.info()"
   ]
  },
  {
   "cell_type": "code",
   "execution_count": 4,
   "metadata": {},
   "outputs": [
    {
     "data": {
      "text/html": [
       "<div>\n",
       "<style scoped>\n",
       "    .dataframe tbody tr th:only-of-type {\n",
       "        vertical-align: middle;\n",
       "    }\n",
       "\n",
       "    .dataframe tbody tr th {\n",
       "        vertical-align: top;\n",
       "    }\n",
       "\n",
       "    .dataframe thead th {\n",
       "        text-align: right;\n",
       "    }\n",
       "</style>\n",
       "<table border=\"1\" class=\"dataframe\">\n",
       "  <thead>\n",
       "    <tr style=\"text-align: right;\">\n",
       "      <th></th>\n",
       "      <th>No.</th>\n",
       "      <th>Title</th>\n",
       "      <th>Author</th>\n",
       "      <th>Publication</th>\n",
       "      <th>Date</th>\n",
       "    </tr>\n",
       "  </thead>\n",
       "  <tbody>\n",
       "    <tr>\n",
       "      <th>0</th>\n",
       "      <td>1.0</td>\n",
       "      <td>General Introduction</td>\n",
       "      <td>Hamilton</td>\n",
       "      <td>For the Independent Journal</td>\n",
       "      <td>--</td>\n",
       "    </tr>\n",
       "    <tr>\n",
       "      <th>1</th>\n",
       "      <td>2.0</td>\n",
       "      <td>Concerning Dangers from Foreign Force and Infl...</td>\n",
       "      <td>Jay</td>\n",
       "      <td>For the Independent Journal</td>\n",
       "      <td>--</td>\n",
       "    </tr>\n",
       "    <tr>\n",
       "      <th>2</th>\n",
       "      <td>3.0</td>\n",
       "      <td>The Same Subject Continued: Concerning Dangers...</td>\n",
       "      <td>Jay</td>\n",
       "      <td>For the Independent Journal</td>\n",
       "      <td>--</td>\n",
       "    </tr>\n",
       "    <tr>\n",
       "      <th>3</th>\n",
       "      <td>4.0</td>\n",
       "      <td>The Same Subject Continued: Concerning Dangers...</td>\n",
       "      <td>Jay</td>\n",
       "      <td>For the Independent Journal</td>\n",
       "      <td>--</td>\n",
       "    </tr>\n",
       "    <tr>\n",
       "      <th>4</th>\n",
       "      <td>5.0</td>\n",
       "      <td>The Same Subject Continued: Concerning Dangers...</td>\n",
       "      <td>Jay</td>\n",
       "      <td>For the Independent Journal</td>\n",
       "      <td>--</td>\n",
       "    </tr>\n",
       "  </tbody>\n",
       "</table>\n",
       "</div>"
      ],
      "text/plain": [
       "   No.                                              Title    Author  \\\n",
       "0  1.0                               General Introduction  Hamilton   \n",
       "1  2.0  Concerning Dangers from Foreign Force and Infl...       Jay   \n",
       "2  3.0  The Same Subject Continued: Concerning Dangers...       Jay   \n",
       "3  4.0  The Same Subject Continued: Concerning Dangers...       Jay   \n",
       "4  5.0  The Same Subject Continued: Concerning Dangers...       Jay   \n",
       "\n",
       "                   Publication Date  \n",
       "0  For the Independent Journal   --  \n",
       "1  For the Independent Journal   --  \n",
       "2  For the Independent Journal   --  \n",
       "3  For the Independent Journal   --  \n",
       "4  For the Independent Journal   --  "
      ]
     },
     "execution_count": 4,
     "metadata": {},
     "output_type": "execute_result"
    }
   ],
   "source": [
    "meta_df.head()"
   ]
  },
  {
   "cell_type": "markdown",
   "metadata": {},
   "source": [
    "### Autorship counts\n",
    "\n",
    "Plot the count the number of papers written by each author. We want to create a machine learning dataset that consists of a train, validation, and test set. We will use the train set to train the model, the validation set to tune the hyperparameters, and the test set to evaluate the model."
   ]
  },
  {
   "cell_type": "code",
   "execution_count": 5,
   "metadata": {},
   "outputs": [
    {
     "name": "stderr",
     "output_type": "stream",
     "text": [
      "c:\\Users\\Yera\\anaconda3\\lib\\site-packages\\scipy\\__init__.py:146: UserWarning: A NumPy version >=1.16.5 and <1.23.0 is required for this version of SciPy (detected version 1.26.4\n",
      "  warnings.warn(f\"A NumPy version >={np_minversion} and <{np_maxversion}\"\n"
     ]
    },
    {
     "data": {
      "image/png": "[encoded data removed]",
      "text/plain": [
       "<Figure size 720x432 with 1 Axes>"
      ]
     },
     "metadata": {
      "needs_background": "light"
     },
     "output_type": "display_data"
    }
   ],
   "source": [
    "import matplotlib.pyplot as plt\n",
    "import seaborn as sns\n",
    "\n",
    "# plot the number of papers written by each author\n",
    "plt.figure(figsize=(10, 6))\n",
    "sns.countplot(y='Author', data=meta_df)\n",
    "plt.title('Number of Papers Written by Each Author')\n",
    "plt.show()"
   ]
  },
  {
   "cell_type": "markdown",
   "metadata": {},
   "source": [
    "Based on the data, answer the following questions:\n",
    "\n",
    "- How many papers were written by each author?\n",
    "- How should you construct your dataset? Explain your reasoning."
   ]
  },
  {
   "cell_type": "markdown",
   "metadata": {},
   "source": [
    "### Contested authorship"
   ]
  },
  {
   "cell_type": "code",
   "execution_count": 6,
   "metadata": {},
   "outputs": [
    {
     "name": "stdout",
     "output_type": "stream",
     "text": [
      "Contested authorship of papers: [49. 50. 51. 52. 53. 54. 55. 56. 57. 62. 63.]\n",
      "Total number of disputed papers: 11\n"
     ]
    }
   ],
   "source": [
    "# disputed papers\n",
    "disputed_papers = meta_df[meta_df['Author'] == 'Hamilton or Madison']\n",
    "contested_authorship = disputed_papers['No.'].values\n",
    "print(f'Contested authorship of papers: {contested_authorship}')\n",
    "print(f'Total number of disputed papers: {len(disputed_papers)}')"
   ]
  },
  {
   "cell_type": "markdown",
   "metadata": {},
   "source": [
    "### Load the Federalist Papers corpus\n",
    "\n",
    "The following code loads the Federalist Papers corpus. The papers have been preprocessed to aid your analysis of the authorship of the papers."
   ]
  },
  {
   "cell_type": "code",
   "execution_count": 7,
   "metadata": {},
   "outputs": [
    {
     "data": {
      "text/html": [
       "<div>\n",
       "<style scoped>\n",
       "    .dataframe tbody tr th:only-of-type {\n",
       "        vertical-align: middle;\n",
       "    }\n",
       "\n",
       "    .dataframe tbody tr th {\n",
       "        vertical-align: top;\n",
       "    }\n",
       "\n",
       "    .dataframe thead th {\n",
       "        text-align: right;\n",
       "    }\n",
       "</style>\n",
       "<table border=\"1\" class=\"dataframe\">\n",
       "  <thead>\n",
       "    <tr style=\"text-align: right;\">\n",
       "      <th></th>\n",
       "      <th>text</th>\n",
       "      <th>paper_id</th>\n",
       "      <th>target</th>\n",
       "      <th>sentences</th>\n",
       "      <th>sentence_length</th>\n",
       "      <th>sentence_index</th>\n",
       "      <th>total_sentences</th>\n",
       "    </tr>\n",
       "  </thead>\n",
       "  <tbody>\n",
       "    <tr>\n",
       "      <th>0</th>\n",
       "      <td>Method of Guarding Against the Encroachments o...</td>\n",
       "      <td>49</td>\n",
       "      <td>dispt</td>\n",
       "      <td>Method of Guarding Against the Encroachments o...</td>\n",
       "      <td>25</td>\n",
       "      <td>0</td>\n",
       "      <td>63</td>\n",
       "    </tr>\n",
       "    <tr>\n",
       "      <th>0</th>\n",
       "      <td>Method of Guarding Against the Encroachments o...</td>\n",
       "      <td>49</td>\n",
       "      <td>dispt</td>\n",
       "      <td>Tuesday, February 5, 1788.</td>\n",
       "      <td>4</td>\n",
       "      <td>1</td>\n",
       "      <td>63</td>\n",
       "    </tr>\n",
       "    <tr>\n",
       "      <th>0</th>\n",
       "      <td>Method of Guarding Against the Encroachments o...</td>\n",
       "      <td>49</td>\n",
       "      <td>dispt</td>\n",
       "      <td>Author: Alexander Hamilton or James Madison</td>\n",
       "      <td>6</td>\n",
       "      <td>2</td>\n",
       "      <td>63</td>\n",
       "    </tr>\n",
       "    <tr>\n",
       "      <th>0</th>\n",
       "      <td>Method of Guarding Against the Encroachments o...</td>\n",
       "      <td>49</td>\n",
       "      <td>dispt</td>\n",
       "      <td>To the People of the State of New York:</td>\n",
       "      <td>9</td>\n",
       "      <td>3</td>\n",
       "      <td>63</td>\n",
       "    </tr>\n",
       "    <tr>\n",
       "      <th>0</th>\n",
       "      <td>Method of Guarding Against the Encroachments o...</td>\n",
       "      <td>49</td>\n",
       "      <td>dispt</td>\n",
       "      <td>THE author of the \"Notes on the State of Virgi...</td>\n",
       "      <td>56</td>\n",
       "      <td>4</td>\n",
       "      <td>63</td>\n",
       "    </tr>\n",
       "  </tbody>\n",
       "</table>\n",
       "</div>"
      ],
      "text/plain": [
       "                                                text paper_id target  \\\n",
       "0  Method of Guarding Against the Encroachments o...       49  dispt   \n",
       "0  Method of Guarding Against the Encroachments o...       49  dispt   \n",
       "0  Method of Guarding Against the Encroachments o...       49  dispt   \n",
       "0  Method of Guarding Against the Encroachments o...       49  dispt   \n",
       "0  Method of Guarding Against the Encroachments o...       49  dispt   \n",
       "\n",
       "                                           sentences  sentence_length  \\\n",
       "0  Method of Guarding Against the Encroachments o...               25   \n",
       "0                         Tuesday, February 5, 1788.                4   \n",
       "0        Author: Alexander Hamilton or James Madison                6   \n",
       "0            To the People of the State of New York:                9   \n",
       "0  THE author of the \"Notes on the State of Virgi...               56   \n",
       "\n",
       "   sentence_index  total_sentences  \n",
       "0               0               63  \n",
       "0               1               63  \n",
       "0               2               63  \n",
       "0               3               63  \n",
       "0               4               63  "
      ]
     },
     "execution_count": 7,
     "metadata": {},
     "output_type": "execute_result"
    }
   ],
   "source": [
    "corpus = pd.read_pickle('fp_corpus.pkl')\n",
    "corpus.head()"
   ]
  },
  {
   "cell_type": "markdown",
   "metadata": {},
   "source": [
    "The above datasets contains the following columns:\n",
    "\n",
    "- `paper_id`: The ID of the paper. This corresponds to the number of the paper in the Federalist Papers collection.\n",
    "- `author`: The author of the paper. This can be one of three values: `Hamilton`, `Madison`, `Jay`, `dispt` (disputed), and `HM` (Hamilton and Madison).\n",
    "- `text`: The text of the paper.\n",
    "- `sentence_length`: The token count of the sentence, defined as the number of tokens by splitting the sentence by spaces.\n",
    "- `sentence_index`: The index of the sentence in the paper.\n",
    "- `total_sentences`: The total number of sentences in the paper.\n",
    "\n",
    "The sentences were created by using the Spacy transformer library to split the text of papers into sentences."
   ]
  },
  {
   "cell_type": "code",
   "execution_count": 8,
   "metadata": {},
   "outputs": [
    {
     "data": {
      "text/plain": [
       "Hamilton    51\n",
       "Madison     15\n",
       "dispt       11\n",
       "Jay          5\n",
       "HM           3\n",
       "Name: target, dtype: int64"
      ]
     },
     "execution_count": 8,
     "metadata": {},
     "output_type": "execute_result"
    }
   ],
   "source": [
    "# drop the duplicates and keep target and paper_id\n",
    "authorship = corpus.drop_duplicates(subset=['paper_id', 'target'])\n",
    "authorship.target.value_counts()"
   ]
  },
  {
   "cell_type": "markdown",
   "metadata": {},
   "source": [
    "### Dataset creation\n",
    "\n",
    "Your task is to predict the author of a paper using the text of the paper. You will use a Recurrent Neural Network (RNN) to predict the author of a paper. You will use the Federalist Papers dataset to train and evaluate your model."
   ]
  },
  {
   "cell_type": "code",
   "execution_count": 9,
   "metadata": {},
   "outputs": [
    {
     "data": {
      "image/png": "[encoded data removed]",
      "text/plain": [
       "<Figure size 720x432 with 1 Axes>"
      ]
     },
     "metadata": {
      "needs_background": "light"
     },
     "output_type": "display_data"
    }
   ],
   "source": [
    "# YOUR CODE HERE - CREATE A DATASET FOR THE CLASSIFICATION TASK OF AUTHORSHIP ATTRIBUTION\n",
    "\n",
    "# since we want to classify the disputed papers,\n",
    "# let's remove them from the dataset into their own dataset.\n",
    "\n",
    "disputed_authors = corpus[corpus['target'] == 'dispt']\n",
    "\n",
    "# It stands to reason that the disputed papers could be co-authored, so\n",
    "# let's remove them from the dataset and use them later. Our first task\n",
    "# is to classify the disputed papers wrt to the question: For any given\n",
    "# disputed paper, is it more likely to be authored by Hamilton or Madison?\n",
    "\n",
    "coauthored = corpus[corpus['target'] == 'HM']\n",
    "\n",
    "# remove the coauthored papers from the dataset\n",
    "corpus = corpus[corpus['target'] != 'HM']\n",
    "\n",
    "# since the disputed authors are either Hamilton or Madison, we can\n",
    "# remove Jay from the dataset. We will hold Jay off for now, but we might\n",
    "# want to experiment with Jay later.\n",
    "\n",
    "# create a mask to filter out Jay\n",
    "jay = corpus[corpus['target'] == 'Jay']\n",
    "\n",
    "# use the mask to remove jay from the dataset\n",
    "corpus = corpus[corpus['target'] != 'Jay']\n",
    "\n",
    "# remove disputed papers from the corpus\n",
    "corpus = corpus[corpus['target'] != 'dispt']\n",
    "\n",
    "# plot the sentence length distribution\n",
    "plt.figure(figsize=(10, 6))\n",
    "sns.histplot(corpus['sentence_length'], bins=50)\n",
    "plt.title('Sentence Length Distribution')\n",
    "plt.show()"
   ]
  },
  {
   "cell_type": "markdown",
   "metadata": {},
   "source": [
    "### Plot the distribution of the number of papers written by each author."
   ]
  },
  {
   "cell_type": "code",
   "execution_count": 10,
   "metadata": {},
   "outputs": [
    {
     "data": {
      "text/plain": [
       "70.0"
      ]
     },
     "execution_count": 10,
     "metadata": {},
     "output_type": "execute_result"
    }
   ],
   "source": [
    "# YOUR CODE HERE - Visualize the distribution of the sentence lengths (what is the quartile distribution of the sentence lengths?)\n",
    "import numpy as np\n",
    "\n",
    "# get the 95th percentile of the sentence length\n",
    "max_len = np.percentile(corpus['sentence_length'], 95)\n",
    "max_len"
   ]
  },
  {
   "cell_type": "code",
   "execution_count": 11,
   "metadata": {},
   "outputs": [
    {
     "data": {
      "image/png": "[encoded data removed]",
      "text/plain": [
       "<Figure size 720x432 with 1 Axes>"
      ]
     },
     "metadata": {
      "needs_background": "light"
     },
     "output_type": "display_data"
    }
   ],
   "source": [
    "# Plot the sentence distribution of the disputed papers\n",
    "plt.figure(figsize=(10, 6))\n",
    "sns.histplot(disputed_authors['sentence_length'], bins=50)\n",
    "plt.title('Sentence Length Distribution of Disputed Papers')\n",
    "plt.show();"
   ]
  },
  {
   "cell_type": "code",
   "execution_count": 12,
   "metadata": {},
   "outputs": [
    {
     "data": {
      "image/png": "[encoded data removed]",
      "text/plain": [
       "<Figure size 720x432 with 1 Axes>"
      ]
     },
     "metadata": {
      "needs_background": "light"
     },
     "output_type": "display_data"
    }
   ],
   "source": [
    "# Plot the sentence distribution of the jay papers\n",
    "plt.figure(figsize=(10, 6))\n",
    "sns.histplot(jay['sentence_length'], bins=50)\n",
    "plt.title('Sentence Length Distribution of Jay Papers')\n",
    "plt.show();"
   ]
  },
  {
   "cell_type": "code",
   "execution_count": 13,
   "metadata": {},
   "outputs": [
    {
     "data": {
      "image/png": "[encoded data removed]",
      "text/plain": [
       "<Figure size 720x432 with 1 Axes>"
      ]
     },
     "metadata": {
      "needs_background": "light"
     },
     "output_type": "display_data"
    }
   ],
   "source": [
    "# Plot the sentence distribution of the coauthored papers\n",
    "plt.figure(figsize=(10, 6))\n",
    "sns.histplot(coauthored['sentence_length'], bins=50)\n",
    "plt.title('Sentence Length Distribution of Coauthored Papers')\n",
    "plt.show();"
   ]
  },
  {
   "cell_type": "code",
   "execution_count": 14,
   "metadata": {},
   "outputs": [
    {
     "data": {
      "image/png": "[encoded data removed]",
      "text/plain": [
       "<Figure size 720x432 with 1 Axes>"
      ]
     },
     "metadata": {
      "needs_background": "light"
     },
     "output_type": "display_data"
    }
   ],
   "source": [
    "# Plot the sentence distribution of the Hamilton papers\n",
    "plt.figure(figsize=(10, 6))\n",
    "sns.histplot(corpus[corpus['target'] == 'Hamilton']['sentence_length'], bins=50)\n",
    "plt.title('Sentence Length Distribution of Hamilton Papers')\n",
    "plt.show();"
   ]
  },
  {
   "cell_type": "code",
   "execution_count": 15,
   "metadata": {},
   "outputs": [
    {
     "data": {
      "image/png": "[encoded data removed]",
      "text/plain": [
       "<Figure size 720x432 with 1 Axes>"
      ]
     },
     "metadata": {
      "needs_background": "light"
     },
     "output_type": "display_data"
    }
   ],
   "source": [
    "# Plot the sentence distribution of the Madison papers\n",
    "plt.figure(figsize=(10, 6))\n",
    "sns.histplot(corpus[corpus['target'] == 'Madison']['sentence_length'], bins=50)\n",
    "plt.title('Sentence Length Distribution of Madison Papers')\n",
    "plt.show();"
   ]
  },
  {
   "cell_type": "markdown",
   "metadata": {},
   "source": [
    "### Plot the distribution of sentence lengths for each author."
   ]
  },
  {
   "cell_type": "code",
   "execution_count": 16,
   "metadata": {},
   "outputs": [
    {
     "data": {
      "image/png": "[encoded data removed]",
      "text/plain": [
       "<Figure size 720x432 with 1 Axes>"
      ]
     },
     "metadata": {
      "needs_background": "light"
     },
     "output_type": "display_data"
    },
    {
     "data": {
      "image/png": "[encoded data removed]",
      "text/plain": [
       "<Figure size 720x432 with 1 Axes>"
      ]
     },
     "metadata": {
      "needs_background": "light"
     },
     "output_type": "display_data"
    }
   ],
   "source": [
    "# YOUR CODE HERE - Visualize the distribution of sentence lengths according to the authorship\n",
    "# plot the sentence length according to the author\n",
    "plt.figure(figsize=(10, 6))\n",
    "sns.boxplot(x='target', y='sentence_length', data=corpus)\n",
    "plt.title('Sentence Length Distribution by Author')\n",
    "plt.show()\n",
    "\n",
    "# plot the disputed_author sentence length and distribution\n",
    "plt.figure(figsize=(10, 6))\n",
    "sns.histplot(disputed_authors['sentence_length'], bins=50)\n",
    "plt.title('Disputed Author Sentence Length Distribution')\n",
    "plt.show()"
   ]
  },
  {
   "cell_type": "markdown",
   "metadata": {},
   "source": [
    "### Prepare dataset for training\n",
    "\n",
    "Prepare a training, validation, and test dataset. What is your X and y? What is the size of your training, validation, and test dataset?"
   ]
  },
  {
   "cell_type": "code",
   "execution_count": 17,
   "metadata": {},
   "outputs": [
    {
     "name": "stdout",
     "output_type": "stream",
     "text": [
      "Training samples: 3904\n",
      "Validation samples: 977\n"
     ]
    }
   ],
   "source": [
    "from sklearn.model_selection import train_test_split\n",
    "\n",
    "X_train, x_val, y_train, y_val = train_test_split(corpus['sentences'],\n",
    "                                                  corpus['target'],\n",
    "                                                  test_size=0.2,\n",
    "                                                  stratify=corpus['target'],\n",
    "                                                  random_state=42\n",
    "                                )\n",
    "\n",
    "print(f'Training samples: {len(X_train)}')\n",
    "print(f'Validation samples: {len(x_val)}')"
   ]
  },
  {
   "cell_type": "markdown",
   "metadata": {},
   "source": [
    "#### Visualize some random samples"
   ]
  },
  {
   "cell_type": "code",
   "execution_count": 18,
   "metadata": {},
   "outputs": [
    {
     "name": "stdout",
     "output_type": "stream",
     "text": [
      "Random sentence: In the case particularly under consideration, there is no such contradiction as appears in the example cited; there is no power on either side to annul the acts of the other.\n",
      "Author: Hamilton\n"
     ]
    }
   ],
   "source": [
    "import random\n",
    "\n",
    "# sample a random sentence from the training set\n",
    "random_idx = random.randint(0, len(X_train))\n",
    "print(f'Random sentence: {X_train.iloc[random_idx]}')\n",
    "print(f'Author: {y_train.iloc[random_idx]}')"
   ]
  },
  {
   "cell_type": "markdown",
   "metadata": {},
   "source": [
    "#### Plot the distribution of training and validation samples\n",
    "\n",
    "Have you split the dataset in a stratified manner? Explain why it is important to split the dataset in a stratified manner. If you have not, explain why you did not split the dataset in a stratified manner. See the documentation for [train_test_split](https://scikit-learn.org/stable/modules/generated/sklearn.model_selection.train_test_split.html) for more information."
   ]
  },
  {
   "cell_type": "markdown",
   "metadata": {},
   "source": [
    "#### Plot the datasets"
   ]
  },
  {
   "cell_type": "code",
   "execution_count": 19,
   "metadata": {},
   "outputs": [
    {
     "name": "stderr",
     "output_type": "stream",
     "text": [
      "c:\\Users\\Yera\\anaconda3\\lib\\site-packages\\seaborn\\_decorators.py:36: FutureWarning: Pass the following variable as a keyword arg: x. From version 0.12, the only valid positional argument will be `data`, and passing other arguments without an explicit keyword will result in an error or misinterpretation.\n",
      "  warnings.warn(\n",
      "c:\\Users\\Yera\\anaconda3\\lib\\site-packages\\seaborn\\_decorators.py:36: FutureWarning: Pass the following variable as a keyword arg: x. From version 0.12, the only valid positional argument will be `data`, and passing other arguments without an explicit keyword will result in an error or misinterpretation.\n",
      "  warnings.warn(\n"
     ]
    },
    {
     "data": {
      "image/png": "[encoded data removed]",
      "text/plain": [
       "<Figure size 1080x432 with 2 Axes>"
      ]
     },
     "metadata": {
      "needs_background": "light"
     },
     "output_type": "display_data"
    }
   ],
   "source": [
    "# plot the distribution of the target classes in the training and validation set on a countplot\n",
    "fig, ax = plt.subplots(1, 2, figsize=(15, 6))\n",
    "# first plot is the training set\n",
    "sns.countplot(y_train, ax=ax[0])\n",
    "ax[0].set_title('Training Set Distribution')\n",
    "# second plot is the validation set\n",
    "sns.countplot(y_val, ax=ax[1])\n",
    "ax[1].set_title('Validation Set Distribution')\n",
    "plt.show()"
   ]
  },
  {
   "cell_type": "markdown",
   "metadata": {},
   "source": [
    "#### Convert the target labels to one hot encodings"
   ]
  },
  {
   "cell_type": "code",
   "execution_count": 20,
   "metadata": {},
   "outputs": [
    {
     "name": "stdout",
     "output_type": "stream",
     "text": [
      "One hot encoded training labels shape: (3904, 2)\n",
      "One hot encoded validation labels shape: (977, 2)\n"
     ]
    }
   ],
   "source": [
    "from sklearn.preprocessing import OneHotEncoder\n",
    "\n",
    "ohe = OneHotEncoder(sparse=False)\n",
    "\n",
    "y_train_ohe = ohe.fit_transform(y_train.values.reshape(-1, 1))\n",
    "y_val_ohe = ohe.transform(y_val.values.reshape(-1, 1))\n",
    "\n",
    "print(f'One hot encoded training labels shape: {y_train_ohe.shape}')\n",
    "print(f'One hot encoded validation labels shape: {y_val_ohe.shape}')\n"
   ]
  },
  {
   "cell_type": "code",
   "execution_count": 21,
   "metadata": {},
   "outputs": [
    {
     "data": {
      "text/plain": [
       "(array([[1., 0.],\n",
       "        [1., 0.],\n",
       "        [1., 0.],\n",
       "        [1., 0.],\n",
       "        [1., 0.]]),\n",
       " 84    Hamilton\n",
       " 57    Hamilton\n",
       " 44    Hamilton\n",
       " 18    Hamilton\n",
       " 24    Hamilton\n",
       " Name: target, dtype: object)"
      ]
     },
     "execution_count": 21,
     "metadata": {},
     "output_type": "execute_result"
    }
   ],
   "source": [
    "y_train_ohe[:5], y_train[:5]"
   ]
  },
  {
   "cell_type": "markdown",
   "metadata": {},
   "source": [
    "#### Encode the labels"
   ]
  },
  {
   "cell_type": "code",
   "execution_count": 22,
   "metadata": {},
   "outputs": [
    {
     "name": "stdout",
     "output_type": "stream",
     "text": [
      "Label encoded training labels shape: (3904,)\n",
      "Label encoded validation labels shape: (977,)\n"
     ]
    }
   ],
   "source": [
    "from sklearn.preprocessing import LabelEncoder\n",
    "\n",
    "label_encoder = LabelEncoder()\n",
    "y_train_le = label_encoder.fit_transform(y_train)\n",
    "y_val_le = label_encoder.transform(y_val)\n",
    "\n",
    "print(f'Label encoded training labels shape: {y_train_le.shape}')\n",
    "print(f'Label encoded validation labels shape: {y_val_le.shape}')"
   ]
  },
  {
   "cell_type": "code",
   "execution_count": 23,
   "metadata": {},
   "outputs": [
    {
     "name": "stdout",
     "output_type": "stream",
     "text": [
      "Original label: Hamilton - Label encoded: 0\n",
      "Original label: Hamilton - Label encoded: 0\n",
      "Original label: Hamilton - Label encoded: 0\n",
      "Original label: Hamilton - Label encoded: 0\n",
      "Original label: Hamilton - Label encoded: 0\n"
     ]
    }
   ],
   "source": [
    "for i in range(5):\n",
    "    print(f'Original label: {y_train.iloc[i]} - Label encoded: {y_train_le[i]}')"
   ]
  },
  {
   "cell_type": "code",
   "execution_count": 24,
   "metadata": {},
   "outputs": [
    {
     "data": {
      "text/plain": [
       "(2, array(['Hamilton', 'Madison'], dtype=object))"
      ]
     },
     "execution_count": 24,
     "metadata": {},
     "output_type": "execute_result"
    }
   ],
   "source": [
    "num_classes = len(label_encoder.classes_)\n",
    "class_names = label_encoder.classes_\n",
    "num_classes, class_names"
   ]
  },
  {
   "cell_type": "markdown",
   "metadata": {},
   "source": [
    "## Train a TF-IDF model"
   ]
  },
  {
   "cell_type": "code",
   "execution_count": 25,
   "metadata": {},
   "outputs": [],
   "source": [
    "from sklearn.feature_extraction.text import TfidfVectorizer\n",
    "from sklearn.pipeline import Pipeline\n",
    "from sklearn.svm import SVC"
   ]
  },
  {
   "cell_type": "code",
   "execution_count": 26,
   "metadata": {},
   "outputs": [
    {
     "data": {
      "text/plain": [
       "Pipeline(steps=[('tfidf', TfidfVectorizer()),\n",
       "                ('clf', SVC(kernel='linear', random_state=42))])"
      ]
     },
     "execution_count": 26,
     "metadata": {},
     "output_type": "execute_result"
    }
   ],
   "source": [
    "text_clf = Pipeline([\n",
    "    ('tfidf', TfidfVectorizer()),\n",
    "    ('clf', SVC(kernel='linear', C=1.0, random_state=42))\n",
    "])\n",
    "\n",
    "# fit the model\n",
    "text_clf.fit(X_train, y_train_le)"
   ]
  },
  {
   "cell_type": "code",
   "execution_count": 27,
   "metadata": {},
   "outputs": [
    {
     "data": {
      "text/plain": [
       "0.8085977482088025"
      ]
     },
     "execution_count": 27,
     "metadata": {},
     "output_type": "execute_result"
    }
   ],
   "source": [
    "text_clf.score(x_val, y_val_le)"
   ]
  },
  {
   "cell_type": "code",
   "execution_count": 28,
   "metadata": {},
   "outputs": [
    {
     "name": "stdout",
     "output_type": "stream",
     "text": [
      "gs_clf.best_params_={'clf__C': 15.0, 'tfidf__max_df': 0.5, 'tfidf__min_df': 1, 'tfidf__ngram_range': (1, 2)}, gs_clf.best_score_=0.8219760990183526\n"
     ]
    },
    {
     "data": {
      "text/plain": [
       "0.8249744114636642"
      ]
     },
     "execution_count": 28,
     "metadata": {},
     "output_type": "execute_result"
    }
   ],
   "source": [
    "# let's use grid search to find the best hyperparameters for the model\n",
    "from sklearn.model_selection import GridSearchCV\n",
    "\n",
    "parameters = {\n",
    "    'tfidf__ngram_range': [(1, 1), (1, 2), (2, 2)],\n",
    "    'tfidf__max_df': [0.5, 0.75, 1.0],\n",
    "    'tfidf__min_df': [1, 5, 10],\n",
    "    'clf__C': [0.1, 1.0, 15.0]\n",
    "}\n",
    "\n",
    "gs_clf = GridSearchCV(text_clf, parameters, cv=5, n_jobs=-1)\n",
    "gs_clf = gs_clf.fit(X_train, y_train_le)\n",
    "\n",
    "print(f'{gs_clf.best_params_=}, {gs_clf.best_score_=}')\n",
    "\n",
    "gs_clf.score(x_val, y_val_le)"
   ]
  },
  {
   "cell_type": "code",
   "execution_count": 29,
   "metadata": {},
   "outputs": [
    {
     "data": {
      "text/plain": [
       "['authorship_attribution_model.pkl']"
      ]
     },
     "execution_count": 29,
     "metadata": {},
     "output_type": "execute_result"
    }
   ],
   "source": [
    "# save the best model\n",
    "import joblib\n",
    "\n",
    "joblib.dump(gs_clf, 'authorship_attribution_model.pkl')"
   ]
  },
  {
   "cell_type": "markdown",
   "metadata": {},
   "source": [
    "### Explain the TF-IDF model\n",
    "\n",
    "- What is the TF-IDF model?\n",
    "- How does the TF-IDF model work?\n",
    "- What are the hyperparameters of the TF-IDF model?\n",
    "- How do you select the hyperparameters of the TF-IDF model?\n",
    "- Why is it helpful to establish a baseline model?"
   ]
  },
  {
   "cell_type": "markdown",
   "metadata": {},
   "source": [
    "## Inference on the disputed papers\n",
    "\n",
    "Let's use our model above to predict the authorship of the disputed papers."
   ]
  },
  {
   "cell_type": "code",
   "execution_count": 30,
   "metadata": {},
   "outputs": [],
   "source": [
    "# load the model\n",
    "model = joblib.load('authorship_attribution_model.pkl')"
   ]
  },
  {
   "cell_type": "code",
   "execution_count": 31,
   "metadata": {},
   "outputs": [],
   "source": [
    "# Run inference on the disputed papers\n",
    "disputed_predictions = model.predict(disputed_authors['sentences'])"
   ]
  },
  {
   "cell_type": "code",
   "execution_count": 32,
   "metadata": {},
   "outputs": [],
   "source": [
    "# for a disputed paper plot the predicted probabilities over the classes and sentence order\n",
    "import matplotlib.pyplot as plt\n",
    "import seaborn as sns\n",
    "\n",
    "# add the predicted probabilities to the disputed authors dataframe using the labels\n",
    "disputed_authors['predicted'] = label_encoder.inverse_transform(disputed_predictions)\n",
    "\n",
    "# let's plot the authorship classification for the disputed paper 49\n",
    "dp_49 = disputed_authors[disputed_authors['paper_id'] == '49']"
   ]
  },
  {
   "cell_type": "code",
   "execution_count": 33,
   "metadata": {},
   "outputs": [
    {
     "data": {
      "text/html": [
       "<div>\n",
       "<style scoped>\n",
       "    .dataframe tbody tr th:only-of-type {\n",
       "        vertical-align: middle;\n",
       "    }\n",
       "\n",
       "    .dataframe tbody tr th {\n",
       "        vertical-align: top;\n",
       "    }\n",
       "\n",
       "    .dataframe thead th {\n",
       "        text-align: right;\n",
       "    }\n",
       "</style>\n",
       "<table border=\"1\" class=\"dataframe\">\n",
       "  <thead>\n",
       "    <tr style=\"text-align: right;\">\n",
       "      <th></th>\n",
       "      <th>text</th>\n",
       "      <th>paper_id</th>\n",
       "      <th>target</th>\n",
       "      <th>sentences</th>\n",
       "      <th>sentence_length</th>\n",
       "      <th>sentence_index</th>\n",
       "      <th>total_sentences</th>\n",
       "      <th>predicted</th>\n",
       "    </tr>\n",
       "  </thead>\n",
       "  <tbody>\n",
       "    <tr>\n",
       "      <th>0</th>\n",
       "      <td>Method of Guarding Against the Encroachments o...</td>\n",
       "      <td>49</td>\n",
       "      <td>dispt</td>\n",
       "      <td>Method of Guarding Against the Encroachments o...</td>\n",
       "      <td>25</td>\n",
       "      <td>0</td>\n",
       "      <td>63</td>\n",
       "      <td>Hamilton</td>\n",
       "    </tr>\n",
       "    <tr>\n",
       "      <th>0</th>\n",
       "      <td>Method of Guarding Against the Encroachments o...</td>\n",
       "      <td>49</td>\n",
       "      <td>dispt</td>\n",
       "      <td>Tuesday, February 5, 1788.</td>\n",
       "      <td>4</td>\n",
       "      <td>1</td>\n",
       "      <td>63</td>\n",
       "      <td>Madison</td>\n",
       "    </tr>\n",
       "    <tr>\n",
       "      <th>0</th>\n",
       "      <td>Method of Guarding Against the Encroachments o...</td>\n",
       "      <td>49</td>\n",
       "      <td>dispt</td>\n",
       "      <td>Author: Alexander Hamilton or James Madison</td>\n",
       "      <td>6</td>\n",
       "      <td>2</td>\n",
       "      <td>63</td>\n",
       "      <td>Madison</td>\n",
       "    </tr>\n",
       "    <tr>\n",
       "      <th>0</th>\n",
       "      <td>Method of Guarding Against the Encroachments o...</td>\n",
       "      <td>49</td>\n",
       "      <td>dispt</td>\n",
       "      <td>To the People of the State of New York:</td>\n",
       "      <td>9</td>\n",
       "      <td>3</td>\n",
       "      <td>63</td>\n",
       "      <td>Hamilton</td>\n",
       "    </tr>\n",
       "    <tr>\n",
       "      <th>0</th>\n",
       "      <td>Method of Guarding Against the Encroachments o...</td>\n",
       "      <td>49</td>\n",
       "      <td>dispt</td>\n",
       "      <td>THE author of the \"Notes on the State of Virgi...</td>\n",
       "      <td>56</td>\n",
       "      <td>4</td>\n",
       "      <td>63</td>\n",
       "      <td>Hamilton</td>\n",
       "    </tr>\n",
       "  </tbody>\n",
       "</table>\n",
       "</div>"
      ],
      "text/plain": [
       "                                                text paper_id target  \\\n",
       "0  Method of Guarding Against the Encroachments o...       49  dispt   \n",
       "0  Method of Guarding Against the Encroachments o...       49  dispt   \n",
       "0  Method of Guarding Against the Encroachments o...       49  dispt   \n",
       "0  Method of Guarding Against the Encroachments o...       49  dispt   \n",
       "0  Method of Guarding Against the Encroachments o...       49  dispt   \n",
       "\n",
       "                                           sentences  sentence_length  \\\n",
       "0  Method of Guarding Against the Encroachments o...               25   \n",
       "0                         Tuesday, February 5, 1788.                4   \n",
       "0        Author: Alexander Hamilton or James Madison                6   \n",
       "0            To the People of the State of New York:                9   \n",
       "0  THE author of the \"Notes on the State of Virgi...               56   \n",
       "\n",
       "   sentence_index  total_sentences predicted  \n",
       "0               0               63  Hamilton  \n",
       "0               1               63   Madison  \n",
       "0               2               63   Madison  \n",
       "0               3               63  Hamilton  \n",
       "0               4               63  Hamilton  "
      ]
     },
     "execution_count": 33,
     "metadata": {},
     "output_type": "execute_result"
    }
   ],
   "source": [
    "dp_49.head()"
   ]
  },
  {
   "cell_type": "code",
   "execution_count": 34,
   "metadata": {},
   "outputs": [
    {
     "data": {
      "image/png": "[encoded data removed]",
      "text/plain": [
       "<Figure size 720x432 with 1 Axes>"
      ]
     },
     "metadata": {
      "needs_background": "light"
     },
     "output_type": "display_data"
    }
   ],
   "source": [
    "# plot the predicted probabilities for the disputed paper 49\n",
    "plt.figure(figsize=(10, 6))\n",
    "sns.barplot(x='predicted', y='sentence_index', data=dp_49)\n",
    "plt.title('Predicted Probabilities for Disputed Paper 49')\n",
    "plt.show()"
   ]
  },
  {
   "cell_type": "code",
   "execution_count": 35,
   "metadata": {},
   "outputs": [
    {
     "data": {
      "image/png": "[encoded data removed]",
      "text/plain": [
       "<Figure size 720x432 with 1 Axes>"
      ]
     },
     "metadata": {
      "needs_background": "light"
     },
     "output_type": "display_data"
    }
   ],
   "source": [
    "# for each sentence color the predicted author\n",
    "plt.figure(figsize=(10, 6))\n",
    "sns.scatterplot(x='sentence_index', y='predicted', data=dp_49, hue='predicted', palette='viridis')\n",
    "plt.title('Predicted Authorship for Disputed Paper 49')\n",
    "plt.show()\n"
   ]
  },
  {
   "cell_type": "markdown",
   "metadata": {},
   "source": [
    "# Task 2: Train a Recurrent Neural Network (RNN) model\n",
    "\n",
    "In the second part of this assignment, you are tasked with the following:\n",
    "\n",
    "- Train a Recurrent Neural Network (RNN) model to predict the author of a paper.\n",
    "- Evaluate the performance of your model and compare it against the baseline model.\n",
    "- Explain your model architecture, hyperparameters, and the results of your model.\n",
    "- Discuss the challenges you faced during the model training process and how you overcame them.\n",
    "- Classify disputed papers using the Naive Bayes and RNN models\n",
    "- Write a summary of your findings and the predictions of your model with respect to the disputed papers."
   ]
  },
  {
   "cell_type": "markdown",
   "metadata": {},
   "source": [
    "## Train a Recurrent Neural Network (RNN) model"
   ]
  },
  {
   "cell_type": "markdown",
   "metadata": {},
   "source": [
    "### Vectorize your text data\n",
    "\n",
    "Vectorize your text data with `tensorflow.keras.models.TextVectorization`. See the documentation here: [TextVectorization](https://www.tensorflow.org/api_docs/python/tf/keras/layers/TextVectorization)."
   ]
  },
  {
   "cell_type": "code",
   "execution_count": 36,
   "metadata": {},
   "outputs": [
    {
     "name": "stdout",
     "output_type": "stream",
     "text": [
      "Requirement already satisfied: tensorflow in c:\\users\\yera\\anaconda3\\lib\\site-packages (2.15.0)Note: you may need to restart the kernel to use updated packages.\n",
      "Requirement already satisfied: tensorflow-intel==2.15.0 in c:\\users\\yera\\anaconda3\\lib\\site-packages (from tensorflow) (2.15.0)\n",
      "Requirement already satisfied: tensorboard<2.16,>=2.15 in c:\\users\\yera\\anaconda3\\lib\\site-packages (from tensorflow-intel==2.15.0->tensorflow) (2.15.2)\n",
      "Collecting ml-dtypes~=0.2.0\n",
      "  Using cached ml_dtypes-0.2.0-cp39-cp39-win_amd64.whl (938 kB)\n",
      "Requirement already satisfied: termcolor>=1.1.0 in c:\\users\\yera\\anaconda3\\lib\\site-packages (from tensorflow-intel==2.15.0->tensorflow) (2.4.0)\n",
      "Requirement already satisfied: tensorflow-estimator<2.16,>=2.15.0 in c:\\users\\yera\\anaconda3\\lib\\site-packages (from tensorflow-intel==2.15.0->tensorflow) (2.15.0)\n",
      "Requirement already satisfied: tensorflow-io-gcs-filesystem>=0.23.1 in c:\\users\\yera\\anaconda3\\lib\\site-packages (from tensorflow-intel==2.15.0->tensorflow) (0.31.0)\n",
      "Requirement already satisfied: typing-extensions>=3.6.6 in c:\\users\\yera\\anaconda3\\lib\\site-packages (from tensorflow-intel==2.15.0->tensorflow) (4.9.0)\n",
      "Requirement already satisfied: h5py>=2.9.0 in c:\\users\\yera\\anaconda3\\lib\\site-packages (from tensorflow-intel==2.15.0->tensorflow) (3.6.0)\n",
      "Requirement already satisfied: six>=1.12.0 in c:\\users\\yera\\anaconda3\\lib\\site-packages (from tensorflow-intel==2.15.0->tensorflow) (1.16.0)\n",
      "Requirement already satisfied: astunparse>=1.6.0 in c:\\users\\yera\\anaconda3\\lib\\site-packages (from tensorflow-intel==2.15.0->tensorflow) (1.6.3)\n",
      "Requirement already satisfied: wrapt<1.15,>=1.11.0 in c:\\users\\yera\\anaconda3\\lib\\site-packages (from tensorflow-intel==2.15.0->tensorflow) (1.12.1)\n",
      "Requirement already satisfied: google-pasta>=0.1.1 in c:\\users\\yera\\anaconda3\\lib\\site-packages (from tensorflow-intel==2.15.0->tensorflow) (0.2.0)\n",
      "Requirement already satisfied: flatbuffers>=23.5.26 in c:\\users\\yera\\anaconda3\\lib\\site-packages (from tensorflow-intel==2.15.0->tensorflow) (23.5.26)\n",
      "Requirement already satisfied: protobuf!=4.21.0,!=4.21.1,!=4.21.2,!=4.21.3,!=4.21.4,!=4.21.5,<5.0.0dev,>=3.20.3 in c:\\users\\yera\\anaconda3\\lib\\site-packages (from tensorflow-intel==2.15.0->tensorflow) (4.25.3)\n",
      "Requirement already satisfied: gast!=0.5.0,!=0.5.1,!=0.5.2,>=0.2.1 in c:\\users\\yera\\anaconda3\\lib\\site-packages (from tensorflow-intel==2.15.0->tensorflow) (0.5.4)\n",
      "Requirement already satisfied: packaging in c:\\users\\yera\\anaconda3\\lib\\site-packages (from tensorflow-intel==2.15.0->tensorflow) (21.3)\n",
      "Requirement already satisfied: grpcio<2.0,>=1.24.3 in c:\\users\\yera\\anaconda3\\lib\\site-packages (from tensorflow-intel==2.15.0->tensorflow) (1.60.1)\n",
      "Requirement already satisfied: opt-einsum>=2.3.2 in c:\\users\\yera\\anaconda3\\lib\\site-packages (from tensorflow-intel==2.15.0->tensorflow) (3.3.0)\n",
      "Requirement already satisfied: absl-py>=1.0.0 in c:\\users\\yera\\anaconda3\\lib\\site-packages (from tensorflow-intel==2.15.0->tensorflow) (2.1.0)\n",
      "Requirement already satisfied: keras<2.16,>=2.15.0 in c:\\users\\yera\\anaconda3\\lib\\site-packages (from tensorflow-intel==2.15.0->tensorflow) (2.15.0)\n",
      "Requirement already satisfied: numpy<2.0.0,>=1.23.5 in c:\\users\\yera\\anaconda3\\lib\\site-packages (from tensorflow-intel==2.15.0->tensorflow) (1.26.4)\n",
      "Requirement already satisfied: setuptools in c:\\users\\yera\\anaconda3\\lib\\site-packages (from tensorflow-intel==2.15.0->tensorflow) (61.2.0)\n",
      "Requirement already satisfied: libclang>=13.0.0 in c:\\users\\yera\\anaconda3\\lib\\site-packages (from tensorflow-intel==2.15.0->tensorflow) (16.0.6)\n",
      "Requirement already satisfied: wheel<1.0,>=0.23.0 in c:\\users\\yera\\anaconda3\\lib\\site-packages (from astunparse>=1.6.0->tensorflow-intel==2.15.0->tensorflow) (0.37.1)\n",
      "\n",
      "Requirement already satisfied: markdown>=2.6.8 in c:\\users\\yera\\anaconda3\\lib\\site-packages (from tensorboard<2.16,>=2.15->tensorflow-intel==2.15.0->tensorflow) (3.3.4)\n",
      "Requirement already satisfied: werkzeug>=1.0.1 in c:\\users\\yera\\anaconda3\\lib\\site-packages (from tensorboard<2.16,>=2.15->tensorflow-intel==2.15.0->tensorflow) (2.0.3)\n",
      "Requirement already satisfied: tensorboard-data-server<0.8.0,>=0.7.0 in c:\\users\\yera\\anaconda3\\lib\\site-packages (from tensorboard<2.16,>=2.15->tensorflow-intel==2.15.0->tensorflow) (0.7.2)\n",
      "Requirement already satisfied: requests<3,>=2.21.0 in c:\\users\\yera\\anaconda3\\lib\\site-packages (from tensorboard<2.16,>=2.15->tensorflow-intel==2.15.0->tensorflow) (2.27.1)\n",
      "Requirement already satisfied: google-auth-oauthlib<2,>=0.5 in c:\\users\\yera\\anaconda3\\lib\\site-packages (from tensorboard<2.16,>=2.15->tensorflow-intel==2.15.0->tensorflow) (1.2.0)\n",
      "Requirement already satisfied: google-auth<3,>=1.6.3 in c:\\users\\yera\\anaconda3\\lib\\site-packages (from tensorboard<2.16,>=2.15->tensorflow-intel==2.15.0->tensorflow) (2.28.0)\n",
      "Requirement already satisfied: rsa<5,>=3.1.4 in c:\\users\\yera\\anaconda3\\lib\\site-packages (from google-auth<3,>=1.6.3->tensorboard<2.16,>=2.15->tensorflow-intel==2.15.0->tensorflow) (4.7.2)\n",
      "Requirement already satisfied: pyasn1-modules>=0.2.1 in c:\\users\\yera\\anaconda3\\lib\\site-packages (from google-auth<3,>=1.6.3->tensorboard<2.16,>=2.15->tensorflow-intel==2.15.0->tensorflow) (0.2.8)\n",
      "Requirement already satisfied: cachetools<6.0,>=2.0.0 in c:\\users\\yera\\anaconda3\\lib\\site-packages (from google-auth<3,>=1.6.3->tensorboard<2.16,>=2.15->tensorflow-intel==2.15.0->tensorflow) (4.2.2)\n",
      "Requirement already satisfied: requests-oauthlib>=0.7.0 in c:\\users\\yera\\anaconda3\\lib\\site-packages (from google-auth-oauthlib<2,>=0.5->tensorboard<2.16,>=2.15->tensorflow-intel==2.15.0->tensorflow) (1.3.1)\n",
      "Requirement already satisfied: pyasn1<0.5.0,>=0.4.6 in c:\\users\\yera\\anaconda3\\lib\\site-packages (from pyasn1-modules>=0.2.1->google-auth<3,>=1.6.3->tensorboard<2.16,>=2.15->tensorflow-intel==2.15.0->tensorflow) (0.4.8)\n",
      "Requirement already satisfied: certifi>=2017.4.17 in c:\\users\\yera\\anaconda3\\lib\\site-packages (from requests<3,>=2.21.0->tensorboard<2.16,>=2.15->tensorflow-intel==2.15.0->tensorflow) (2021.10.8)\n",
      "Requirement already satisfied: urllib3<1.27,>=1.21.1 in c:\\users\\yera\\anaconda3\\lib\\site-packages (from requests<3,>=2.21.0->tensorboard<2.16,>=2.15->tensorflow-intel==2.15.0->tensorflow) (1.26.9)\n",
      "Requirement already satisfied: idna<4,>=2.5 in c:\\users\\yera\\anaconda3\\lib\\site-packages (from requests<3,>=2.21.0->tensorboard<2.16,>=2.15->tensorflow-intel==2.15.0->tensorflow) (3.3)\n",
      "Requirement already satisfied: charset-normalizer~=2.0.0 in c:\\users\\yera\\anaconda3\\lib\\site-packages (from requests<3,>=2.21.0->tensorboard<2.16,>=2.15->tensorflow-intel==2.15.0->tensorflow) (2.0.4)\n",
      "Requirement already satisfied: oauthlib>=3.0.0 in c:\\users\\yera\\anaconda3\\lib\\site-packages (from requests-oauthlib>=0.7.0->google-auth-oauthlib<2,>=0.5->tensorboard<2.16,>=2.15->tensorflow-intel==2.15.0->tensorflow) (3.2.2)\n",
      "Requirement already satisfied: pyparsing!=3.0.5,>=2.0.2 in c:\\users\\yera\\anaconda3\\lib\\site-packages (from packaging->tensorflow-intel==2.15.0->tensorflow) (3.0.4)\n",
      "Installing collected packages: ml-dtypes\n",
      "  Attempting uninstall: ml-dtypes\n",
      "    Found existing installation: ml-dtypes 0.3.2\n",
      "    Uninstalling ml-dtypes-0.3.2:\n",
      "      Successfully uninstalled ml-dtypes-0.3.2\n",
      "Successfully installed ml-dtypes-0.2.0\n"
     ]
    }
   ],
   "source": [
    "pip install tensorflow"
   ]
  },
  {
   "cell_type": "code",
   "execution_count": 50,
   "metadata": {},
   "outputs": [],
   "source": [
    "import tensorflow as tf\n",
    "from tensorflow.keras.layers import TextVectorization\n",
    "\n",
    "# # YOUR CODE HERE - Create a TextVectorization layer - what arguments will you use? Explain your choice of arguments.\n",
    "\n",
    "text_vectorizer = TextVectorization()"
   ]
  },
  {
   "cell_type": "code",
   "execution_count": 51,
   "metadata": {},
   "outputs": [],
   "source": [
    "# Yera's code\n",
    "import tensorflow as tf\n",
    "from tensorflow.keras.layers import TextVectorization\n",
    "\n",
    "# Create a TextVectorization layer\n",
    "max_vocab_size = 1000  # Maximum vocabulary size\n",
    "max_sequence_length = 100  # Maximum sequence length\n",
    "output_sequence_length = 20  # Output sequence length\n",
    "pad_to_max_tokens = True  # Whether to pad sequences to the max_tokens value\n",
    "\n",
    "text_vectorizer = TextVectorization(\n",
    "    max_tokens=max_vocab_size,  # Maximum number of words in the vocabulary\n",
    "    output_mode='int',  # Output tokens as integers\n",
    "    output_sequence_length=output_sequence_length,  # Output sequence length\n",
    "    pad_to_max_tokens=pad_to_max_tokens  # Pad sequences to max_tokens value\n",
    ")"
   ]
  },
  {
   "cell_type": "code",
   "execution_count": 56,
   "metadata": {},
   "outputs": [
    {
     "name": "stdout",
     "output_type": "stream",
     "text": [
      "Original text:\n",
      "Pennsylvania may not choose to confound her interests in a connection so adverse to her policy.\n"
     ]
    },
    {
     "ename": "FailedPreconditionError",
     "evalue": "Exception encountered when calling layer 'string_lookup_3' (type StringLookup).\n\n{{function_node __wrapped__LookupTableFindV2_device_/job:localhost/replica:0/task:0/device:CPU:0}} Table not initialized. [Op:LookupTableFindV2] name: \n\nCall arguments received by layer 'string_lookup_3' (type StringLookup):\n  • inputs=<tf.RaggedTensor [[b'pennsylvania', b'may', b'not', b'choose', b'to', b'confound', b'her',\n  b'interests', b'in', b'a', b'connection', b'so', b'adverse', b'to',\n  b'her', b'policy']]>",
     "output_type": "error",
     "traceback": [
      "\u001b[1;31m---------------------------------------------------------------------------\u001b[0m",
      "\u001b[1;31mFailedPreconditionError\u001b[0m                   Traceback (most recent call last)",
      "Input \u001b[1;32mIn [56]\u001b[0m, in \u001b[0;36m<cell line: 5>\u001b[1;34m()\u001b[0m\n\u001b[0;32m      3\u001b[0m example_sent \u001b[38;5;241m=\u001b[39m random\u001b[38;5;241m.\u001b[39mchoice(X_train\u001b[38;5;241m.\u001b[39mvalues) \u001b[38;5;66;03m# change var name if you need to\u001b[39;00m\n\u001b[0;32m      4\u001b[0m \u001b[38;5;28mprint\u001b[39m(\u001b[38;5;124mf\u001b[39m\u001b[38;5;124m'\u001b[39m\u001b[38;5;124mOriginal text:\u001b[39m\u001b[38;5;130;01m\\n\u001b[39;00m\u001b[38;5;132;01m{\u001b[39;00mexample_sent\u001b[38;5;132;01m}\u001b[39;00m\u001b[38;5;124m'\u001b[39m)\n\u001b[1;32m----> 5\u001b[0m \u001b[38;5;28mprint\u001b[39m(\u001b[38;5;124mf\u001b[39m\u001b[38;5;124m'\u001b[39m\u001b[38;5;130;01m\\n\u001b[39;00m\u001b[38;5;124mVectorized text:\u001b[39m\u001b[38;5;130;01m\\n\u001b[39;00m\u001b[38;5;132;01m{\u001b[39;00mtext_vectorizer([example_sent])\u001b[38;5;132;01m}\u001b[39;00m\u001b[38;5;124m'\u001b[39m)\n\u001b[0;32m      6\u001b[0m \u001b[38;5;28mprint\u001b[39m(\u001b[38;5;124m'\u001b[39m\u001b[38;5;124mLength of vector:\u001b[39m\u001b[38;5;124m'\u001b[39m, \u001b[38;5;28mlen\u001b[39m(text_vectorizer([example_sent])\u001b[38;5;241m.\u001b[39mnumpy()[\u001b[38;5;241m0\u001b[39m]))\n",
      "File \u001b[1;32mc:\\Users\\Yera\\anaconda3\\lib\\site-packages\\keras\\src\\utils\\traceback_utils.py:70\u001b[0m, in \u001b[0;36mfilter_traceback.<locals>.error_handler\u001b[1;34m(*args, **kwargs)\u001b[0m\n\u001b[0;32m     67\u001b[0m     filtered_tb \u001b[38;5;241m=\u001b[39m _process_traceback_frames(e\u001b[38;5;241m.\u001b[39m__traceback__)\n\u001b[0;32m     68\u001b[0m     \u001b[38;5;66;03m# To get the full stack trace, call:\u001b[39;00m\n\u001b[0;32m     69\u001b[0m     \u001b[38;5;66;03m# `tf.debugging.disable_traceback_filtering()`\u001b[39;00m\n\u001b[1;32m---> 70\u001b[0m     \u001b[38;5;28;01mraise\u001b[39;00m e\u001b[38;5;241m.\u001b[39mwith_traceback(filtered_tb) \u001b[38;5;28;01mfrom\u001b[39;00m \u001b[38;5;28;01mNone\u001b[39;00m\n\u001b[0;32m     71\u001b[0m \u001b[38;5;28;01mfinally\u001b[39;00m:\n\u001b[0;32m     72\u001b[0m     \u001b[38;5;28;01mdel\u001b[39;00m filtered_tb\n",
      "File \u001b[1;32mc:\\Users\\Yera\\anaconda3\\lib\\site-packages\\keras\\src\\layers\\preprocessing\\index_lookup.py:792\u001b[0m, in \u001b[0;36mIndexLookup._lookup_dense\u001b[1;34m(self, inputs)\u001b[0m\n\u001b[0;32m    790\u001b[0m     lookups \u001b[38;5;241m=\u001b[39m tf\u001b[38;5;241m.\u001b[39mzeros_like(inputs, dtype\u001b[38;5;241m=\u001b[39m\u001b[38;5;28mself\u001b[39m\u001b[38;5;241m.\u001b[39m_value_dtype)\n\u001b[0;32m    791\u001b[0m \u001b[38;5;28;01melse\u001b[39;00m:\n\u001b[1;32m--> 792\u001b[0m     lookups \u001b[38;5;241m=\u001b[39m \u001b[38;5;28;43mself\u001b[39;49m\u001b[38;5;241;43m.\u001b[39;49m\u001b[43mlookup_table\u001b[49m\u001b[38;5;241;43m.\u001b[39;49m\u001b[43mlookup\u001b[49m\u001b[43m(\u001b[49m\u001b[43minputs\u001b[49m\u001b[43m)\u001b[49m\n\u001b[0;32m    794\u001b[0m \u001b[38;5;28;01mif\u001b[39;00m \u001b[38;5;28mself\u001b[39m\u001b[38;5;241m.\u001b[39mmask_token \u001b[38;5;129;01mis\u001b[39;00m \u001b[38;5;129;01mnot\u001b[39;00m \u001b[38;5;28;01mNone\u001b[39;00m:\n\u001b[0;32m    795\u001b[0m     mask_locations \u001b[38;5;241m=\u001b[39m tf\u001b[38;5;241m.\u001b[39mequal(inputs, \u001b[38;5;28mself\u001b[39m\u001b[38;5;241m.\u001b[39m_mask_key)\n",
      "\u001b[1;31mFailedPreconditionError\u001b[0m: Exception encountered when calling layer 'string_lookup_3' (type StringLookup).\n\n{{function_node __wrapped__LookupTableFindV2_device_/job:localhost/replica:0/task:0/device:CPU:0}} Table not initialized. [Op:LookupTableFindV2] name: \n\nCall arguments received by layer 'string_lookup_3' (type StringLookup):\n  • inputs=<tf.RaggedTensor [[b'pennsylvania', b'may', b'not', b'choose', b'to', b'confound', b'her',\n  b'interests', b'in', b'a', b'connection', b'so', b'adverse', b'to',\n  b'her', b'policy']]>"
     ]
    }
   ],
   "source": [
    "# Randomly visualize some of your vectorized textual data\n",
    "import random\n",
    "example_sent = random.choice(X_train.values) # change var name if you need to\n",
    "print(f'Original text:\\n{example_sent}')\n",
    "print(f'\\nVectorized text:\\n{text_vectorizer([example_sent])}')\n",
    "print('Length of vector:', len(text_vectorizer([example_sent]).numpy()[0]))"
   ]
  },
  {
   "cell_type": "code",
   "execution_count": 58,
   "metadata": {},
   "outputs": [],
   "source": [
    "example_sent_list = [example_sent]"
   ]
  },
  {
   "cell_type": "code",
   "execution_count": null,
   "metadata": {},
   "outputs": [
    {
     "name": "stdout",
     "output_type": "stream",
     "text": [
      "Number of words in the vocabulary: 2\n",
      "Most common words in the vocabulary: ['', '[UNK]']\n",
      "Least common words in the vocabulary: ['', '[UNK]']\n"
     ]
    }
   ],
   "source": [
    "# examine the vocabulary\n",
    "vocab = text_vectorizer.get_vocabulary()\n",
    "print(f'Number of words in the vocabulary: {len(vocab)}')\n",
    "print(f'Most common words in the vocabulary: {vocab[:5]}')\n",
    "print(f'Least common words in the vocabulary: {vocab[-5:]}')"
   ]
  },
  {
   "cell_type": "code",
   "execution_count": null,
   "metadata": {},
   "outputs": [
    {
     "data": {
      "text/plain": [
       "{'name': 'text_vectorization_1',\n",
       " 'trainable': True,\n",
       " 'dtype': 'string',\n",
       " 'max_tokens': 1000,\n",
       " 'standardize': 'lower_and_strip_punctuation',\n",
       " 'split': 'whitespace',\n",
       " 'ngrams': None,\n",
       " 'output_mode': 'int',\n",
       " 'output_sequence_length': 20,\n",
       " 'pad_to_max_tokens': True,\n",
       " 'sparse': False,\n",
       " 'ragged': False,\n",
       " 'vocabulary': None,\n",
       " 'idf_weights': None,\n",
       " 'encoding': 'utf-8',\n",
       " 'vocabulary_size': 2}"
      ]
     },
     "execution_count": 48,
     "metadata": {},
     "output_type": "execute_result"
    }
   ],
   "source": [
    "# examine the config vars\n",
    "text_vectorizer.get_config() # when you train your model, these parameters can be changed to perhaps improve performance"
   ]
  },
  {
   "cell_type": "code",
   "execution_count": null,
   "metadata": {},
   "outputs": [
    {
     "ename": "NameError",
     "evalue": "name 'YOUR_TRAINING_DATA' is not defined",
     "output_type": "error",
     "traceback": [
      "\u001b[1;31m---------------------------------------------------------------------------\u001b[0m",
      "\u001b[1;31mNameError\u001b[0m                                 Traceback (most recent call last)",
      "Input \u001b[1;32mIn [49]\u001b[0m, in \u001b[0;36m<cell line: 2>\u001b[1;34m()\u001b[0m\n\u001b[0;32m      1\u001b[0m \u001b[38;5;66;03m# Adapt the text vectorizer to the training data\u001b[39;00m\n\u001b[1;32m----> 2\u001b[0m text_vectorizer\u001b[38;5;241m.\u001b[39madapt(\u001b[43mYOUR_TRAINING_DATA\u001b[49m)\n",
      "\u001b[1;31mNameError\u001b[0m: name 'YOUR_TRAINING_DATA' is not defined"
     ]
    }
   ],
   "source": [
    "# Adapt the text vectorizer to the training data\n",
    "text_vectorizer.adapt(YOUR_TRAINING_DATA)"
   ]
  },
  {
   "cell_type": "code",
   "execution_count": 59,
   "metadata": {},
   "outputs": [],
   "source": [
    "# Adapt the text vectorizer to the training data\n",
    "text_vectorizer.adapt(X_train)"
   ]
  },
  {
   "cell_type": "markdown",
   "metadata": {},
   "source": [
    "### Create an embedding layer"
   ]
  },
  {
   "cell_type": "code",
   "execution_count": 60,
   "metadata": {},
   "outputs": [
    {
     "name": "stdout",
     "output_type": "stream",
     "text": [
      "Sentence before vectorization: Pennsylvania may not choose to confound her interests in a connection so adverse to her policy.\n",
      "Sentence after vectorization: [643  33  21   1   4   1 197 162   6   7   1  60   1   4 197 402   0   0\n",
      "   0   0]\n"
     ]
    },
    {
     "ename": "InvalidArgumentError",
     "evalue": "Exception encountered when calling layer 'token_embedding' (type Embedding).\n\n{{function_node __wrapped__ResourceGather_device_/job:localhost/replica:0/task:0/device:CPU:0}} indices[0] = 643 is not in [0, 2) [Op:ResourceGather] name: \n\nCall arguments received by layer 'token_embedding' (type Embedding):\n  • inputs=tf.Tensor(shape=(20,), dtype=int64)",
     "output_type": "error",
     "traceback": [
      "\u001b[1;31m---------------------------------------------------------------------------\u001b[0m",
      "\u001b[1;31mInvalidArgumentError\u001b[0m                      Traceback (most recent call last)",
      "Input \u001b[1;32mIn [60]\u001b[0m, in \u001b[0;36m<cell line: 9>\u001b[1;34m()\u001b[0m\n\u001b[0;32m      7\u001b[0m vectorized_sent \u001b[38;5;241m=\u001b[39m text_vectorizer(example_sent)\n\u001b[0;32m      8\u001b[0m \u001b[38;5;28mprint\u001b[39m(\u001b[38;5;124mf\u001b[39m\u001b[38;5;124m'\u001b[39m\u001b[38;5;124mSentence after vectorization: \u001b[39m\u001b[38;5;132;01m{\u001b[39;00mvectorized_sent\u001b[38;5;132;01m}\u001b[39;00m\u001b[38;5;124m'\u001b[39m)\n\u001b[1;32m----> 9\u001b[0m embedded_sent \u001b[38;5;241m=\u001b[39m \u001b[43mtoken_embedding\u001b[49m\u001b[43m(\u001b[49m\u001b[43mvectorized_sent\u001b[49m\u001b[43m)\u001b[49m\n\u001b[0;32m     10\u001b[0m \u001b[38;5;28mprint\u001b[39m(\u001b[38;5;124mf\u001b[39m\u001b[38;5;124m'\u001b[39m\u001b[38;5;124mSentence after embedding: \u001b[39m\u001b[38;5;132;01m{\u001b[39;00membedded_sent\u001b[38;5;132;01m}\u001b[39;00m\u001b[38;5;124m'\u001b[39m)\n",
      "File \u001b[1;32mc:\\Users\\Yera\\anaconda3\\lib\\site-packages\\keras\\src\\utils\\traceback_utils.py:70\u001b[0m, in \u001b[0;36mfilter_traceback.<locals>.error_handler\u001b[1;34m(*args, **kwargs)\u001b[0m\n\u001b[0;32m     67\u001b[0m     filtered_tb \u001b[38;5;241m=\u001b[39m _process_traceback_frames(e\u001b[38;5;241m.\u001b[39m__traceback__)\n\u001b[0;32m     68\u001b[0m     \u001b[38;5;66;03m# To get the full stack trace, call:\u001b[39;00m\n\u001b[0;32m     69\u001b[0m     \u001b[38;5;66;03m# `tf.debugging.disable_traceback_filtering()`\u001b[39;00m\n\u001b[1;32m---> 70\u001b[0m     \u001b[38;5;28;01mraise\u001b[39;00m e\u001b[38;5;241m.\u001b[39mwith_traceback(filtered_tb) \u001b[38;5;28;01mfrom\u001b[39;00m \u001b[38;5;28;01mNone\u001b[39;00m\n\u001b[0;32m     71\u001b[0m \u001b[38;5;28;01mfinally\u001b[39;00m:\n\u001b[0;32m     72\u001b[0m     \u001b[38;5;28;01mdel\u001b[39;00m filtered_tb\n",
      "File \u001b[1;32mc:\\Users\\Yera\\anaconda3\\lib\\site-packages\\tensorflow\\python\\framework\\ops.py:5883\u001b[0m, in \u001b[0;36mraise_from_not_ok_status\u001b[1;34m(e, name)\u001b[0m\n\u001b[0;32m   5881\u001b[0m \u001b[38;5;28;01mdef\u001b[39;00m \u001b[38;5;21mraise_from_not_ok_status\u001b[39m(e, name) \u001b[38;5;241m-\u001b[39m\u001b[38;5;241m>\u001b[39m NoReturn:\n\u001b[0;32m   5882\u001b[0m   e\u001b[38;5;241m.\u001b[39mmessage \u001b[38;5;241m+\u001b[39m\u001b[38;5;241m=\u001b[39m (\u001b[38;5;124m\"\u001b[39m\u001b[38;5;124m name: \u001b[39m\u001b[38;5;124m\"\u001b[39m \u001b[38;5;241m+\u001b[39m \u001b[38;5;28mstr\u001b[39m(name \u001b[38;5;28;01mif\u001b[39;00m name \u001b[38;5;129;01mis\u001b[39;00m \u001b[38;5;129;01mnot\u001b[39;00m \u001b[38;5;28;01mNone\u001b[39;00m \u001b[38;5;28;01melse\u001b[39;00m \u001b[38;5;124m\"\u001b[39m\u001b[38;5;124m\"\u001b[39m))\n\u001b[1;32m-> 5883\u001b[0m   \u001b[38;5;28;01mraise\u001b[39;00m core\u001b[38;5;241m.\u001b[39m_status_to_exception(e) \u001b[38;5;28;01mfrom\u001b[39;00m \u001b[38;5;28;01mNone\u001b[39;00m\n",
      "\u001b[1;31mInvalidArgumentError\u001b[0m: Exception encountered when calling layer 'token_embedding' (type Embedding).\n\n{{function_node __wrapped__ResourceGather_device_/job:localhost/replica:0/task:0/device:CPU:0}} indices[0] = 643 is not in [0, 2) [Op:ResourceGather] name: \n\nCall arguments received by layer 'token_embedding' (type Embedding):\n  • inputs=tf.Tensor(shape=(20,), dtype=int64)"
     ]
    }
   ],
   "source": [
    "token_embedding = tf.keras.layers.Embedding(input_dim=len(vocab),\n",
    "                                            output_dim=128,\n",
    "                                            mask_zero=True,\n",
    "                                            name='token_embedding')\n",
    "\n",
    "print(f'Sentence before vectorization: {example_sent}')\n",
    "vectorized_sent = text_vectorizer(example_sent)\n",
    "print(f'Sentence after vectorization: {vectorized_sent}')\n",
    "embedded_sent = token_embedding(vectorized_sent)\n",
    "print(f'Sentence after embedding: {embedded_sent}')"
   ]
  },
  {
   "cell_type": "code",
   "execution_count": 61,
   "metadata": {},
   "outputs": [],
   "source": [
    "# Yera's code - run this to instead of above cell\n",
    "# Get the vocabulary size from the text_vectorizer\n",
    "vocab_size = len(text_vectorizer.get_vocabulary())\n",
    "\n",
    "# Define the Embedding layer with the correct input_dim\n",
    "token_embedding = tf.keras.layers.Embedding(input_dim=vocab_size,\n",
    "                                            output_dim=128,\n",
    "                                            mask_zero=True,\n",
    "                                            name='token_embedding')"
   ]
  },
  {
   "cell_type": "markdown",
   "metadata": {},
   "source": [
    "### Create Tensorflow Dataset\n",
    "\n",
    "To efficiently train your model, you should create a `tf.data.Dataset` object. See the documentation here: [tf.data.Dataset](https://www.tensorflow.org/api_docs/python/tf/data/Dataset)."
   ]
  },
  {
   "cell_type": "code",
   "execution_count": null,
   "metadata": {},
   "outputs": [],
   "source": [
    "X_dataset = tf.data.Dataset.from_tensor_slices((YOUR CODE HERE))\n",
    "val_dataset = tf.data.Dataset.from_tensor_slices((YOUR CODE HERE))"
   ]
  },
  {
   "cell_type": "code",
   "execution_count": 62,
   "metadata": {},
   "outputs": [],
   "source": [
    "# Yera's code \n",
    "X_dataset = tf.data.Dataset.from_tensor_slices((X_train, y_train_le))\n",
    "val_dataset = tf.data.Dataset.from_tensor_slices((x_val, y_val_le))"
   ]
  },
  {
   "cell_type": "code",
   "execution_count": 63,
   "metadata": {},
   "outputs": [
    {
     "name": "stdout",
     "output_type": "stream",
     "text": [
      "Sentence: b'We have courts of common law, courts of probates (analogous in certain matters to the spiritual courts in England), a court of admiralty and a court of chancery.' - Label: 0\n",
      "Sentence: b'Article 3, sec. I. 2.' - Label: 0\n",
      "Sentence: b'IT IS sometimes asked, with an air of seeming triumph, what inducements could the States have, if disunited, to make war upon each other?' - Label: 0\n",
      "Sentence: b'It must in truth be acknowledged that, however these may differ in other respects, they in general appear to harmonize in this sentiment, at least, that there are material imperfections in our national system, and that something is necessary to be done to rescue us from impending anarchy.' - Label: 0\n",
      "Sentence: b'Pennsylvania and North Carolina are the two which contain the interdiction in these words: \"As standing armies in time of peace are dangerous to liberty, THEY OUGHT NOT to be kept up.\"' - Label: 0\n"
     ]
    }
   ],
   "source": [
    "# print the first 5 samples\n",
    "for sample in X_dataset.take(5):\n",
    "    sentence, label = sample\n",
    "    print(f'Sentence: {sentence} - Label: {label}')"
   ]
  },
  {
   "cell_type": "markdown",
   "metadata": {},
   "source": [
    "### Create batches of data\n",
    "\n",
    "Batch size is a model hyperparameter that defines the number of samples that will be propagated through the network. This number can and should be adjusted in consideration with model performance and compute memory. See the documentation here: [Batch size](https://www.tensorflow.org/guide/data)."
   ]
  },
  {
   "cell_type": "code",
   "execution_count": 64,
   "metadata": {},
   "outputs": [],
   "source": [
    "BATCH_SIZE = #YOUR CODE HERE"
   ]
  },
  {
   "cell_type": "code",
   "execution_count": null,
   "metadata": {},
   "outputs": [],
   "source": [
    "# Yera's Code\n",
    "BATCH_SIZE = 32"
   ]
  },
  {
   "cell_type": "code",
   "execution_count": 65,
   "metadata": {},
   "outputs": [],
   "source": [
    "train_dataset = X_dataset.batch(BATCH_SIZE).prefetch(tf.data.AUTOTUNE)\n",
    "val_dataset = val_dataset.batch(BATCH_SIZE).prefetch(tf.data.AUTOTUNE)"
   ]
  },
  {
   "cell_type": "markdown",
   "metadata": {},
   "source": [
    "QUESTION: What does tf.data.AUTOTUNE do?"
   ]
  },
  {
   "cell_type": "markdown",
   "metadata": {},
   "source": [
    "### Design your model"
   ]
  },
  {
   "cell_type": "code",
   "execution_count": 66,
   "metadata": {},
   "outputs": [],
   "source": [
    "# MODEL Hyperparameters\n",
    "learning_rate = 0.0001\n",
    "optimizer = tf.keras.optimizers.Adam(learning_rate=learning_rate)\n",
    "loss = 'categorical_crossentropy'\n",
    "epochs = 8"
   ]
  },
  {
   "cell_type": "code",
   "execution_count": 68,
   "metadata": {},
   "outputs": [],
   "source": [
    "# Model architecture\n",
    "from tensorflow.keras import layers, regularizers\n",
    "\n",
    "# inputs = tf.keras.layers.Inputs(shape=(1,), dtype=tf.string)\n",
    "\n",
    "# Yera's code - run this instead of above line\n",
    "inputs = tf.keras.layers.Input(shape=(1,), dtype=tf.string)\n",
    "\n",
    "x = text_vectorizer(inputs)\n",
    "# YOUR ADDITIONAL LAYERS HERE\n",
    "outputs = layers.Dense(num_classes, activation='softmax')(x)\n",
    "model = tf.keras.Model(inputs, outputs)\n",
    "\n",
    "model.compile(loss=loss, optimizer=optimizer, metrics=['accuracy'])"
   ]
  },
  {
   "cell_type": "code",
   "execution_count": 69,
   "metadata": {},
   "outputs": [
    {
     "name": "stdout",
     "output_type": "stream",
     "text": [
      "Epoch 1/8\n"
     ]
    },
    {
     "ename": "ValueError",
     "evalue": "in user code:\n\n    File \"c:\\Users\\Yera\\anaconda3\\lib\\site-packages\\keras\\src\\engine\\training.py\", line 1401, in train_function  *\n        return step_function(self, iterator)\n    File \"c:\\Users\\Yera\\anaconda3\\lib\\site-packages\\keras\\src\\engine\\training.py\", line 1384, in step_function  **\n        outputs = model.distribute_strategy.run(run_step, args=(data,))\n    File \"c:\\Users\\Yera\\anaconda3\\lib\\site-packages\\keras\\src\\engine\\training.py\", line 1373, in run_step  **\n        outputs = model.train_step(data)\n    File \"c:\\Users\\Yera\\anaconda3\\lib\\site-packages\\keras\\src\\engine\\training.py\", line 1151, in train_step\n        loss = self.compute_loss(x, y, y_pred, sample_weight)\n    File \"c:\\Users\\Yera\\anaconda3\\lib\\site-packages\\keras\\src\\engine\\training.py\", line 1209, in compute_loss\n        return self.compiled_loss(\n    File \"c:\\Users\\Yera\\anaconda3\\lib\\site-packages\\keras\\src\\engine\\compile_utils.py\", line 277, in __call__\n        loss_value = loss_obj(y_t, y_p, sample_weight=sw)\n    File \"c:\\Users\\Yera\\anaconda3\\lib\\site-packages\\keras\\src\\losses.py\", line 143, in __call__\n        losses = call_fn(y_true, y_pred)\n    File \"c:\\Users\\Yera\\anaconda3\\lib\\site-packages\\keras\\src\\losses.py\", line 270, in call  **\n        return ag_fn(y_true, y_pred, **self._fn_kwargs)\n    File \"c:\\Users\\Yera\\anaconda3\\lib\\site-packages\\keras\\src\\losses.py\", line 2221, in categorical_crossentropy\n        return backend.categorical_crossentropy(\n    File \"c:\\Users\\Yera\\anaconda3\\lib\\site-packages\\keras\\src\\backend.py\", line 5573, in categorical_crossentropy\n        target.shape.assert_is_compatible_with(output.shape)\n\n    ValueError: Shapes (None, 1) and (None, 2) are incompatible\n",
     "output_type": "error",
     "traceback": [
      "\u001b[1;31m---------------------------------------------------------------------------\u001b[0m",
      "\u001b[1;31mValueError\u001b[0m                                Traceback (most recent call last)",
      "Input \u001b[1;32mIn [69]\u001b[0m, in \u001b[0;36m<cell line: 2>\u001b[1;34m()\u001b[0m\n\u001b[0;32m      1\u001b[0m \u001b[38;5;66;03m# Train the model or fit the model on the data\u001b[39;00m\n\u001b[1;32m----> 2\u001b[0m history \u001b[38;5;241m=\u001b[39m \u001b[43mmodel\u001b[49m\u001b[38;5;241;43m.\u001b[39;49m\u001b[43mfit\u001b[49m\u001b[43m(\u001b[49m\u001b[43mtrain_dataset\u001b[49m\u001b[43m,\u001b[49m\u001b[43m \u001b[49m\u001b[43mepochs\u001b[49m\u001b[38;5;241;43m=\u001b[39;49m\u001b[43mepochs\u001b[49m\u001b[43m,\u001b[49m\u001b[43m \u001b[49m\u001b[43mvalidation_data\u001b[49m\u001b[38;5;241;43m=\u001b[39;49m\u001b[43mval_dataset\u001b[49m\u001b[43m)\u001b[49m\n",
      "File \u001b[1;32mc:\\Users\\Yera\\anaconda3\\lib\\site-packages\\keras\\src\\utils\\traceback_utils.py:70\u001b[0m, in \u001b[0;36mfilter_traceback.<locals>.error_handler\u001b[1;34m(*args, **kwargs)\u001b[0m\n\u001b[0;32m     67\u001b[0m     filtered_tb \u001b[38;5;241m=\u001b[39m _process_traceback_frames(e\u001b[38;5;241m.\u001b[39m__traceback__)\n\u001b[0;32m     68\u001b[0m     \u001b[38;5;66;03m# To get the full stack trace, call:\u001b[39;00m\n\u001b[0;32m     69\u001b[0m     \u001b[38;5;66;03m# `tf.debugging.disable_traceback_filtering()`\u001b[39;00m\n\u001b[1;32m---> 70\u001b[0m     \u001b[38;5;28;01mraise\u001b[39;00m e\u001b[38;5;241m.\u001b[39mwith_traceback(filtered_tb) \u001b[38;5;28;01mfrom\u001b[39;00m \u001b[38;5;28;01mNone\u001b[39;00m\n\u001b[0;32m     71\u001b[0m \u001b[38;5;28;01mfinally\u001b[39;00m:\n\u001b[0;32m     72\u001b[0m     \u001b[38;5;28;01mdel\u001b[39;00m filtered_tb\n",
      "File \u001b[1;32m~\\AppData\\Local\\Temp\\__autograph_generated_files_qy0uyl.py:15\u001b[0m, in \u001b[0;36mouter_factory.<locals>.inner_factory.<locals>.tf__train_function\u001b[1;34m(iterator)\u001b[0m\n\u001b[0;32m     13\u001b[0m \u001b[38;5;28;01mtry\u001b[39;00m:\n\u001b[0;32m     14\u001b[0m     do_return \u001b[38;5;241m=\u001b[39m \u001b[38;5;28;01mTrue\u001b[39;00m\n\u001b[1;32m---> 15\u001b[0m     retval_ \u001b[38;5;241m=\u001b[39m ag__\u001b[38;5;241m.\u001b[39mconverted_call(ag__\u001b[38;5;241m.\u001b[39mld(step_function), (ag__\u001b[38;5;241m.\u001b[39mld(\u001b[38;5;28mself\u001b[39m), ag__\u001b[38;5;241m.\u001b[39mld(iterator)), \u001b[38;5;28;01mNone\u001b[39;00m, fscope)\n\u001b[0;32m     16\u001b[0m \u001b[38;5;28;01mexcept\u001b[39;00m:\n\u001b[0;32m     17\u001b[0m     do_return \u001b[38;5;241m=\u001b[39m \u001b[38;5;28;01mFalse\u001b[39;00m\n",
      "\u001b[1;31mValueError\u001b[0m: in user code:\n\n    File \"c:\\Users\\Yera\\anaconda3\\lib\\site-packages\\keras\\src\\engine\\training.py\", line 1401, in train_function  *\n        return step_function(self, iterator)\n    File \"c:\\Users\\Yera\\anaconda3\\lib\\site-packages\\keras\\src\\engine\\training.py\", line 1384, in step_function  **\n        outputs = model.distribute_strategy.run(run_step, args=(data,))\n    File \"c:\\Users\\Yera\\anaconda3\\lib\\site-packages\\keras\\src\\engine\\training.py\", line 1373, in run_step  **\n        outputs = model.train_step(data)\n    File \"c:\\Users\\Yera\\anaconda3\\lib\\site-packages\\keras\\src\\engine\\training.py\", line 1151, in train_step\n        loss = self.compute_loss(x, y, y_pred, sample_weight)\n    File \"c:\\Users\\Yera\\anaconda3\\lib\\site-packages\\keras\\src\\engine\\training.py\", line 1209, in compute_loss\n        return self.compiled_loss(\n    File \"c:\\Users\\Yera\\anaconda3\\lib\\site-packages\\keras\\src\\engine\\compile_utils.py\", line 277, in __call__\n        loss_value = loss_obj(y_t, y_p, sample_weight=sw)\n    File \"c:\\Users\\Yera\\anaconda3\\lib\\site-packages\\keras\\src\\losses.py\", line 143, in __call__\n        losses = call_fn(y_true, y_pred)\n    File \"c:\\Users\\Yera\\anaconda3\\lib\\site-packages\\keras\\src\\losses.py\", line 270, in call  **\n        return ag_fn(y_true, y_pred, **self._fn_kwargs)\n    File \"c:\\Users\\Yera\\anaconda3\\lib\\site-packages\\keras\\src\\losses.py\", line 2221, in categorical_crossentropy\n        return backend.categorical_crossentropy(\n    File \"c:\\Users\\Yera\\anaconda3\\lib\\site-packages\\keras\\src\\backend.py\", line 5573, in categorical_crossentropy\n        target.shape.assert_is_compatible_with(output.shape)\n\n    ValueError: Shapes (None, 1) and (None, 2) are incompatible\n"
     ]
    }
   ],
   "source": [
    "# Train the model or fit the model on the data\n",
    "history = model.fit(train_dataset, epochs=epochs, validation_data=val_dataset)"
   ]
  },
  {
   "cell_type": "code",
   "execution_count": 71,
   "metadata": {},
   "outputs": [
    {
     "name": "stdout",
     "output_type": "stream",
     "text": [
      "WARNING:tensorflow:From c:\\Users\\Yera\\anaconda3\\lib\\site-packages\\keras\\src\\optimizers\\__init__.py:309: The name tf.train.Optimizer is deprecated. Please use tf.compat.v1.train.Optimizer instead.\n",
      "\n",
      "Epoch 1/8\n"
     ]
    },
    {
     "name": "stdout",
     "output_type": "stream",
     "text": [
      "WARNING:tensorflow:From c:\\Users\\Yera\\anaconda3\\lib\\site-packages\\keras\\src\\engine\\base_layer_utils.py:384: The name tf.executing_eagerly_outside_functions is deprecated. Please use tf.compat.v1.executing_eagerly_outside_functions instead.\n",
      "\n",
      "122/122 [==============================] - 2s 7ms/step - loss: 109.7135 - accuracy: 0.5961 - val_loss: 88.7223 - val_accuracy: 0.6131\n",
      "Epoch 2/8\n",
      "122/122 [==============================] - 0s 4ms/step - loss: 80.7781 - accuracy: 0.6104 - val_loss: 62.4715 - val_accuracy: 0.6356\n",
      "Epoch 3/8\n",
      "122/122 [==============================] - 0s 4ms/step - loss: 53.8785 - accuracy: 0.6212 - val_loss: 38.3930 - val_accuracy: 0.6448\n",
      "Epoch 4/8\n",
      "122/122 [==============================] - 0s 4ms/step - loss: 29.1254 - accuracy: 0.6253 - val_loss: 16.5384 - val_accuracy: 0.6479\n",
      "Epoch 5/8\n",
      "122/122 [==============================] - 0s 4ms/step - loss: 8.3824 - accuracy: 0.6209 - val_loss: 1.0406 - val_accuracy: 0.6847\n",
      "Epoch 6/8\n",
      "122/122 [==============================] - 0s 4ms/step - loss: 0.7737 - accuracy: 0.6578 - val_loss: 0.7545 - val_accuracy: 0.7206\n",
      "Epoch 7/8\n",
      "122/122 [==============================] - 1s 5ms/step - loss: 0.7443 - accuracy: 0.6652 - val_loss: 0.7620 - val_accuracy: 0.7206\n",
      "Epoch 8/8\n",
      "122/122 [==============================] - 0s 4ms/step - loss: 0.7477 - accuracy: 0.6660 - val_loss: 0.7666 - val_accuracy: 0.7216\n"
     ]
    }
   ],
   "source": [
    "# Yera's code - run this instead of above\n",
    "from tensorflow.keras import layers\n",
    "\n",
    "# Model architecture\n",
    "inputs = tf.keras.layers.Input(shape=(1,), dtype=tf.string)\n",
    "x = text_vectorizer(inputs)\n",
    "# Additional layers\n",
    "outputs = layers.Dense(2, activation='softmax')(x)  # Two units for binary classification\n",
    "model = tf.keras.Model(inputs, outputs)\n",
    "\n",
    "# Compile the model\n",
    "model.compile(loss='sparse_categorical_crossentropy', optimizer='adam', metrics=['accuracy'])\n",
    "\n",
    "# Train the model\n",
    "history = model.fit(train_dataset, epochs=epochs, validation_data=val_dataset)"
   ]
  },
  {
   "cell_type": "markdown",
   "metadata": {},
   "source": [
    "QUESTION: How can tensorflow automatically save the best performing model for you?"
   ]
  },
  {
   "cell_type": "markdown",
   "metadata": {},
   "source": [
    "## Evaluate the performance of your model"
   ]
  },
  {
   "cell_type": "code",
   "execution_count": 72,
   "metadata": {},
   "outputs": [],
   "source": [
    "# plot the training history\n",
    "def plot_history(history):\n",
    "    acc = history.history['accuracy']\n",
    "    val_acc = history.history['val_accuracy']\n",
    "    loss = history.history['loss']\n",
    "    val_loss = history.history['val_loss']\n",
    "\n",
    "    plt.figure(figsize=(12, 6))\n",
    "    plt.subplot(1, 2, 1)\n",
    "    plt.plot(acc, label='Training Accuracy')\n",
    "    plt.plot(val_acc, label='Validation Accuracy')\n",
    "    plt.legend()\n",
    "    plt.title('Training and Validation Accuracy')\n",
    "\n",
    "    plt.subplot(1, 2, 2)\n",
    "    plt.plot(loss, label='Training Loss')\n",
    "    plt.plot(val_loss, label='Validation Loss')\n",
    "    plt.legend()\n",
    "    plt.title('Training and Validation Loss')\n",
    "\n",
    "    plt.show()"
   ]
  },
  {
   "cell_type": "code",
   "execution_count": 73,
   "metadata": {},
   "outputs": [
    {
     "data": {
      "image/png": "[encoded data removed]",
      "text/plain": [
       "<Figure size 864x432 with 2 Axes>"
      ]
     },
     "metadata": {
      "needs_background": "light"
     },
     "output_type": "display_data"
    }
   ],
   "source": [
    "plot_history(history)"
   ]
  },
  {
   "cell_type": "markdown",
   "metadata": {},
   "source": [
    "- QUESTION: Is your model overfit? Underfit?\n",
    "- QUESTION: Explain how bias and variance relate to training your model?"
   ]
  },
  {
   "cell_type": "markdown",
   "metadata": {},
   "source": [
    "## Explain your model architecture, hyperparameters, and the results of your model"
   ]
  },
  {
   "cell_type": "markdown",
   "metadata": {},
   "source": [
    "- QUESTION: What hyperparameters resulted in the best performing model?\n",
    "- QUESTION: What parameters resulted in the best performing model?\n",
    "- QUESTION: What model architecture resulted in the best performing model?"
   ]
  },
  {
   "cell_type": "markdown",
   "metadata": {},
   "source": [
    "## Challenges faced during the model training process\n",
    "\n",
    "Please explain any challenges you faced and how you overcame them."
   ]
  },
  {
   "cell_type": "markdown",
   "metadata": {},
   "source": [
    "## Classify the disputed authorship data\n",
    "\n",
    "Using the Naive Bayes and RNN models, classify the disputed author sentences. Use visuaulizations and confusion matrices to communicate the decision outputs of your models. Are there any trends?"
   ]
  },
  {
   "cell_type": "code",
   "execution_count": null,
   "metadata": {},
   "outputs": [],
   "source": [
    "# YOUR CODE HERE"
   ]
  },
  {
   "cell_type": "code",
   "execution_count": 79,
   "metadata": {},
   "outputs": [],
   "source": [
    "from sklearn.feature_extraction.text import CountVectorizer\n",
    "from sklearn.model_selection import train_test_split\n",
    "from sklearn.naive_bayes import MultinomialNB\n",
    "from sklearn.metrics import confusion_matrix, ConfusionMatrixDisplay\n",
    "import tensorflow as tf\n",
    "from tensorflow.keras.models import Sequential\n",
    "from tensorflow.keras.layers import Embedding, LSTM, Dense\n",
    "import matplotlib.pyplot as plt\n",
    "import seaborn as sns\n",
    "\n",
    "# Vectorize the training data\n",
    "vectorizer = CountVectorizer()\n",
    "X_train_vec = vectorizer.fit_transform(X_train)\n",
    "x_val_vec = vectorizer.transform(x_val)\n",
    "\n",
    "# Encode labels\n",
    "label_encoder = LabelEncoder()\n",
    "y_train_encoded = label_encoder.fit_transform(y_train)\n",
    "y_val_encoded = label_encoder.transform(y_val)\n",
    "\n",
    "# Convert the encoded labels to categorical for the RNN\n",
    "y_train_categorical = tf.keras.utils.to_categorical(y_train_encoded)\n",
    "y_val_categorical = tf.keras.utils.to_categorical(y_val_encoded)\n"
   ]
  },
  {
   "cell_type": "code",
   "execution_count": 84,
   "metadata": {},
   "outputs": [
    {
     "name": "stdout",
     "output_type": "stream",
     "text": [
      "Naive Bayes Model Accuracy: 0.8034800409416581\n"
     ]
    },
    {
     "data": {
      "image/png": "[encoded data removed]",
      "text/plain": [
       "<Figure size 432x288 with 2 Axes>"
      ]
     },
     "metadata": {
      "needs_background": "light"
     },
     "output_type": "display_data"
    }
   ],
   "source": [
    "# Create and train the Naive Bayes model\n",
    "nb_model = MultinomialNB()\n",
    "nb_model.fit(X_train_vec, y_train_encoded)\n",
    "\n",
    "# Evaluate the model on the validation data\n",
    "nb_score = nb_model.score(x_val_vec, y_val_encoded)\n",
    "print(f'Naive Bayes Model Accuracy: {nb_score}')\n",
    "\n",
    "# Predictions for Naive Bayes\n",
    "nb_predictions = nb_model.predict(x_val_vec)\n",
    "\n",
    "# Confusion Matrix for Naive Bayes\n",
    "nb_cm = confusion_matrix(y_val_encoded, nb_predictions)\n",
    "nb_cm_display = ConfusionMatrixDisplay(nb_cm, display_labels=label_encoder.classes_).plot()\n",
    "plt.title('Naive Bayes Confusion Matrix')\n",
    "plt.show()\n"
   ]
  },
  {
   "cell_type": "code",
   "execution_count": 86,
   "metadata": {},
   "outputs": [
    {
     "name": "stdout",
     "output_type": "stream",
     "text": [
      "Model: \"sequential_1\"\n",
      "_________________________________________________________________\n",
      " Layer (type)                Output Shape              Param #   \n",
      "=================================================================\n",
      " embedding_1 (Embedding)     (None, 7348, 128)         940544    \n",
      "                                                                 \n",
      " lstm_1 (LSTM)               (None, 64)                49408     \n",
      "                                                                 \n",
      " dense_3 (Dense)             (None, 2)                 130       \n",
      "                                                                 \n",
      "=================================================================\n",
      "Total params: 990082 (3.78 MB)\n",
      "Trainable params: 990082 (3.78 MB)\n",
      "Non-trainable params: 0 (0.00 Byte)\n",
      "_________________________________________________________________\n"
     ]
    }
   ],
   "source": [
    "# Define the RNN model\n",
    "rnn_model = Sequential([\n",
    "    Embedding(input_dim=X_train_vec.shape[1], output_dim=128, input_length=X_train_vec.shape[1]),\n",
    "    LSTM(64),\n",
    "    Dense(len(label_encoder.classes_), activation='softmax')\n",
    "])\n",
    "\n",
    "# Compile the model\n",
    "rnn_model.compile(loss='categorical_crossentropy', optimizer='adam', metrics=['accuracy'])\n",
    "\n",
    "# Display the model summary\n",
    "rnn_model.summary()"
   ]
  },
  {
   "cell_type": "markdown",
   "metadata": {},
   "source": [
    "## Summary of your findings and predictions\n",
    "\n",
    "- Classify the undetermined sentences with the Naive Bayes Model and your RNN model. Compare and contrast the results.\n",
    "- What are your conclusions based on your experiments?\n",
    "- Describe how a data science NLP solution relates to other methdologies for addressing author identification. Can we and should we value the RNN outputs? How does our RNN solution relate to issues of human values, judgments, and biases of opinion?"
   ]
  },
  {
   "cell_type": "markdown",
   "metadata": {},
   "source": [
    "## Extra credit\n",
    "\n",
    "Go back to your dataset creation and randomly change the author of the assigned sentence. With the labels randomized, rerun the code above. Describe what you learned in this process. (2pts to final grade)"
   ]
  },
  {
   "cell_type": "code",
   "execution_count": 88,
   "metadata": {},
   "outputs": [
    {
     "name": "stderr",
     "output_type": "stream",
     "text": [
      "C:\\Users\\Yera\\AppData\\Local\\Temp\\ipykernel_23428\\3512586792.py:11: SettingWithCopyWarning: \n",
      "A value is trying to be set on a copy of a slice from a DataFrame\n",
      "\n",
      "See the caveats in the documentation: https://pandas.pydata.org/pandas-docs/stable/user_guide/indexing.html#returning-a-view-versus-a-copy\n",
      "  randomized_data['target'].iloc[i] = random.choice(authors)\n"
     ]
    },
    {
     "ename": "InvalidArgumentError",
     "evalue": "{{function_node __wrapped__SerializeManySparse_device_/job:localhost/replica:0/task:0/device:CPU:0}} indices[2] = [0,3951] is out of order. Many sparse ops require sorted indices.\n    Use `tf.sparse.reorder` to create a correctly ordered copy.\n\n [Op:SerializeManySparse] name: ",
     "output_type": "error",
     "traceback": [
      "\u001b[1;31m---------------------------------------------------------------------------\u001b[0m",
      "\u001b[1;31mInvalidArgumentError\u001b[0m                      Traceback (most recent call last)",
      "Input \u001b[1;32mIn [88]\u001b[0m, in \u001b[0;36m<cell line: 45>\u001b[1;34m()\u001b[0m\n\u001b[0;32m     39\u001b[0m rnn_model_randomized \u001b[38;5;241m=\u001b[39m Sequential([\n\u001b[0;32m     40\u001b[0m     Embedding(input_dim\u001b[38;5;241m=\u001b[39mX_train_randomized_vec\u001b[38;5;241m.\u001b[39mshape[\u001b[38;5;241m1\u001b[39m], output_dim\u001b[38;5;241m=\u001b[39m\u001b[38;5;241m128\u001b[39m, input_length\u001b[38;5;241m=\u001b[39mX_train_randomized_vec\u001b[38;5;241m.\u001b[39mshape[\u001b[38;5;241m1\u001b[39m]),\n\u001b[0;32m     41\u001b[0m     LSTM(\u001b[38;5;241m64\u001b[39m),\n\u001b[0;32m     42\u001b[0m     Dense(\u001b[38;5;28mlen\u001b[39m(label_encoder\u001b[38;5;241m.\u001b[39mclasses_), activation\u001b[38;5;241m=\u001b[39m\u001b[38;5;124m'\u001b[39m\u001b[38;5;124msoftmax\u001b[39m\u001b[38;5;124m'\u001b[39m)\n\u001b[0;32m     43\u001b[0m ])\n\u001b[0;32m     44\u001b[0m rnn_model_randomized\u001b[38;5;241m.\u001b[39mcompile(loss\u001b[38;5;241m=\u001b[39m\u001b[38;5;124m'\u001b[39m\u001b[38;5;124mcategorical_crossentropy\u001b[39m\u001b[38;5;124m'\u001b[39m, optimizer\u001b[38;5;241m=\u001b[39m\u001b[38;5;124m'\u001b[39m\u001b[38;5;124madam\u001b[39m\u001b[38;5;124m'\u001b[39m, metrics\u001b[38;5;241m=\u001b[39m[\u001b[38;5;124m'\u001b[39m\u001b[38;5;124maccuracy\u001b[39m\u001b[38;5;124m'\u001b[39m])\n\u001b[1;32m---> 45\u001b[0m \u001b[43mrnn_model_randomized\u001b[49m\u001b[38;5;241;43m.\u001b[39;49m\u001b[43mfit\u001b[49m\u001b[43m(\u001b[49m\u001b[43mX_train_randomized_vec\u001b[49m\u001b[43m,\u001b[49m\u001b[43m \u001b[49m\u001b[43my_train_randomized_categorical\u001b[49m\u001b[43m,\u001b[49m\u001b[43m \u001b[49m\u001b[43mepochs\u001b[49m\u001b[38;5;241;43m=\u001b[39;49m\u001b[43mepochs\u001b[49m\u001b[43m,\u001b[49m\u001b[43m \u001b[49m\u001b[43mvalidation_data\u001b[49m\u001b[38;5;241;43m=\u001b[39;49m\u001b[43m(\u001b[49m\u001b[43mx_val_randomized_vec\u001b[49m\u001b[43m,\u001b[49m\u001b[43m \u001b[49m\u001b[43my_val_randomized_categorical\u001b[49m\u001b[43m)\u001b[49m\u001b[43m)\u001b[49m\n\u001b[0;32m     47\u001b[0m \u001b[38;5;66;03m# Evaluate both models on the disputed authorship data\u001b[39;00m\n\u001b[0;32m     48\u001b[0m nb_accuracy_randomized \u001b[38;5;241m=\u001b[39m nb_model_randomized\u001b[38;5;241m.\u001b[39mscore(disputed_authors[\u001b[38;5;124m'\u001b[39m\u001b[38;5;124msentences\u001b[39m\u001b[38;5;124m'\u001b[39m], disputed_authors[\u001b[38;5;124m'\u001b[39m\u001b[38;5;124mtarget\u001b[39m\u001b[38;5;124m'\u001b[39m])\n",
      "File \u001b[1;32mc:\\Users\\Yera\\anaconda3\\lib\\site-packages\\keras\\src\\utils\\traceback_utils.py:70\u001b[0m, in \u001b[0;36mfilter_traceback.<locals>.error_handler\u001b[1;34m(*args, **kwargs)\u001b[0m\n\u001b[0;32m     67\u001b[0m     filtered_tb \u001b[38;5;241m=\u001b[39m _process_traceback_frames(e\u001b[38;5;241m.\u001b[39m__traceback__)\n\u001b[0;32m     68\u001b[0m     \u001b[38;5;66;03m# To get the full stack trace, call:\u001b[39;00m\n\u001b[0;32m     69\u001b[0m     \u001b[38;5;66;03m# `tf.debugging.disable_traceback_filtering()`\u001b[39;00m\n\u001b[1;32m---> 70\u001b[0m     \u001b[38;5;28;01mraise\u001b[39;00m e\u001b[38;5;241m.\u001b[39mwith_traceback(filtered_tb) \u001b[38;5;28;01mfrom\u001b[39;00m \u001b[38;5;28;01mNone\u001b[39;00m\n\u001b[0;32m     71\u001b[0m \u001b[38;5;28;01mfinally\u001b[39;00m:\n\u001b[0;32m     72\u001b[0m     \u001b[38;5;28;01mdel\u001b[39;00m filtered_tb\n",
      "File \u001b[1;32mc:\\Users\\Yera\\anaconda3\\lib\\site-packages\\tensorflow\\python\\framework\\ops.py:5883\u001b[0m, in \u001b[0;36mraise_from_not_ok_status\u001b[1;34m(e, name)\u001b[0m\n\u001b[0;32m   5881\u001b[0m \u001b[38;5;28;01mdef\u001b[39;00m \u001b[38;5;21mraise_from_not_ok_status\u001b[39m(e, name) \u001b[38;5;241m-\u001b[39m\u001b[38;5;241m>\u001b[39m NoReturn:\n\u001b[0;32m   5882\u001b[0m   e\u001b[38;5;241m.\u001b[39mmessage \u001b[38;5;241m+\u001b[39m\u001b[38;5;241m=\u001b[39m (\u001b[38;5;124m\"\u001b[39m\u001b[38;5;124m name: \u001b[39m\u001b[38;5;124m\"\u001b[39m \u001b[38;5;241m+\u001b[39m \u001b[38;5;28mstr\u001b[39m(name \u001b[38;5;28;01mif\u001b[39;00m name \u001b[38;5;129;01mis\u001b[39;00m \u001b[38;5;129;01mnot\u001b[39;00m \u001b[38;5;28;01mNone\u001b[39;00m \u001b[38;5;28;01melse\u001b[39;00m \u001b[38;5;124m\"\u001b[39m\u001b[38;5;124m\"\u001b[39m))\n\u001b[1;32m-> 5883\u001b[0m   \u001b[38;5;28;01mraise\u001b[39;00m core\u001b[38;5;241m.\u001b[39m_status_to_exception(e) \u001b[38;5;28;01mfrom\u001b[39;00m \u001b[38;5;28;01mNone\u001b[39;00m\n",
      "\u001b[1;31mInvalidArgumentError\u001b[0m: {{function_node __wrapped__SerializeManySparse_device_/job:localhost/replica:0/task:0/device:CPU:0}} indices[2] = [0,3951] is out of order. Many sparse ops require sorted indices.\n    Use `tf.sparse.reorder` to create a correctly ordered copy.\n\n [Op:SerializeManySparse] name: "
     ]
    }
   ],
   "source": [
    "import random\n",
    "import tensorflow as tf\n",
    "\n",
    "# Function to randomly change the author of the assigned sentence\n",
    "def randomize_authorship(data):\n",
    "    randomized_data = data.copy()\n",
    "    for i in range(len(randomized_data)):\n",
    "        if randomized_data['target'].iloc[i] != 'dispt':\n",
    "            authors = ['HM', 'Madison', 'Jay']\n",
    "            if randomized_data['target'].iloc[i] in authors:\n",
    "                authors.remove(randomized_data['target'].iloc[i])\n",
    "                randomized_data['target'].iloc[i] = random.choice(authors)\n",
    "    return randomized_data\n",
    "\n",
    "# Randomize authorship in the corpus\n",
    "corpus_randomized = randomize_authorship(corpus)\n",
    "\n",
    "# Separate the randomized corpus into training and validation sets\n",
    "X_train_randomized, x_val_randomized, y_train_randomized, y_val_randomized = train_test_split(\n",
    "    corpus_randomized['sentences'], corpus_randomized['target'], test_size=0.2, stratify=corpus_randomized['target'], random_state=42\n",
    ")\n",
    "\n",
    "# Vectorize the training data\n",
    "X_train_randomized_vec = vectorizer.fit_transform(X_train_randomized)\n",
    "x_val_randomized_vec = vectorizer.transform(x_val_randomized)\n",
    "\n",
    "# Encode labels\n",
    "y_train_randomized_encoded = label_encoder.fit_transform(y_train_randomized)\n",
    "y_val_randomized_encoded = label_encoder.transform(y_val_randomized)\n",
    "\n",
    "# Convert the encoded labels to categorical for the RNN\n",
    "y_train_randomized_categorical = tf.keras.utils.to_categorical(y_train_randomized_encoded)\n",
    "y_val_randomized_categorical = tf.keras.utils.to_categorical(y_val_randomized_encoded)\n",
    "\n",
    "# Define and train the Naive Bayes model\n",
    "nb_model_randomized = MultinomialNB()\n",
    "nb_model_randomized.fit(X_train_randomized_vec, y_train_randomized_encoded)\n",
    "\n",
    "# Define the RNN model\n",
    "rnn_model_randomized = Sequential([\n",
    "    Embedding(input_dim=X_train_randomized_vec.shape[1], output_dim=128, input_length=X_train_randomized_vec.shape[1]),\n",
    "    LSTM(64),\n",
    "    Dense(len(label_encoder.classes_), activation='softmax')\n",
    "])\n",
    "rnn_model_randomized.compile(loss='categorical_crossentropy', optimizer='adam', metrics=['accuracy'])\n",
    "rnn_model_randomized.fit(X_train_randomized_vec, y_train_randomized_categorical, epochs=epochs, validation_data=(x_val_randomized_vec, y_val_randomized_categorical))\n",
    "\n",
    "# Evaluate both models on the disputed authorship data\n",
    "nb_accuracy_randomized = nb_model_randomized.score(disputed_authors['sentences'], disputed_authors['target'])\n",
    "rnn_accuracy_randomized = rnn_model_randomized.evaluate(x_val_randomized_vec, y_val_randomized_categorical)[1]"
   ]
  },
  {
   "cell_type": "code",
   "execution_count": null,
   "metadata": {},
   "outputs": [],
   "source": []
  }
 ],
 "metadata": {
  "kernelspec": {
   "display_name": "fed_papers",
   "language": "python",
   "name": "python3"
  },
  "language_info": {
   "codemirror_mode": {
    "name": "ipython",
    "version": 3
   },
   "file_extension": ".py",
   "mimetype": "text/x-python",
   "name": "python",
   "nbconvert_exporter": "python",
   "pygments_lexer": "ipython3",
   "version": "3.9.12"
  }
 },
 "nbformat": 4,
 "nbformat_minor": 2
}
